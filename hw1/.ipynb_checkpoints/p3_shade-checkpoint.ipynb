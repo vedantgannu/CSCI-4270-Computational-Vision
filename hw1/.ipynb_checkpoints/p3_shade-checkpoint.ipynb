{
 "cells": [
  {
   "cell_type": "code",
   "execution_count": 1,
   "id": "a8ac0802",
   "metadata": {},
   "outputs": [],
   "source": [
    "import numpy as np"
   ]
  },
  {
   "cell_type": "code",
   "execution_count": 2,
   "id": "a3056d7e",
   "metadata": {},
   "outputs": [],
   "source": [
    "import cv2"
   ]
  },
  {
   "cell_type": "code",
   "execution_count": 3,
   "id": "c74ac4a7",
   "metadata": {},
   "outputs": [],
   "source": [
    "import sys"
   ]
  },
  {
   "cell_type": "code",
   "execution_count": null,
   "id": "722d7498",
   "metadata": {},
   "outputs": [],
   "source": []
  },
  {
   "cell_type": "code",
   "execution_count": 4,
   "id": "d35094f3",
   "metadata": {},
   "outputs": [
    {
     "name": "stdout",
     "output_type": "stream",
     "text": [
      "Missing CMD arguments\n"
     ]
    },
    {
     "ename": "SystemExit",
     "evalue": "1",
     "output_type": "error",
     "traceback": [
      "An exception has occurred, use %tb to see the full traceback.\n",
      "\u001b[1;31mSystemExit\u001b[0m\u001b[1;31m:\u001b[0m 1\n"
     ]
    },
    {
     "name": "stderr",
     "output_type": "stream",
     "text": [
      "C:\\Anaconda3\\envs\\CompVisEnv\\lib\\site-packages\\IPython\\core\\interactiveshell.py:3452: UserWarning: To exit: use 'exit', 'quit', or Ctrl-D.\n",
      "  warn(\"To exit: use 'exit', 'quit', or Ctrl-D.\", stacklevel=1)\n"
     ]
    }
   ],
   "source": [
    "if len(sys.argv) != 4:\n",
    "    print(\"Missing CMD arguments\")\n",
    "    sys.exit(1)\n",
    "elif sys.argv[3] not in [\"left\", \"top\", \"right\", \"bottom\", \"center\"]:\n",
    "    print(\"dir argument ({}) not valid\".format(sys.argv[3]))\n",
    "    sys.exit(1)"
   ]
  },
  {
   "cell_type": "code",
   "execution_count": 162,
   "id": "2422e423",
   "metadata": {},
   "outputs": [],
   "source": [
    "IN_IMG = sys.argv[1]#\"data_to_post/mountain3.jpg\"\n",
    "OUT_DIR = sys.argv[2]#\"vedant_center.jpg\"\n",
    "DIR = sys.argv[3].lower()#\"left\"\n",
    "img = cv2.imread(IN_IMG)"
   ]
  },
  {
   "cell_type": "code",
   "execution_count": 163,
   "id": "b929cf6e",
   "metadata": {},
   "outputs": [
    {
     "name": "stdout",
     "output_type": "stream",
     "text": [
      "(1080, 1920, 3)\n"
     ]
    }
   ],
   "source": [
    "M_rows = img.shape[0]\n",
    "N_columns = img.shape[1]"
   ]
  },
  {
   "cell_type": "code",
   "execution_count": 164,
   "id": "582ae4e4",
   "metadata": {},
   "outputs": [
    {
     "name": "stdout",
     "output_type": "stream",
     "text": [
      "(0,0) 1.000\n",
      "(0,960) 0.500\n",
      "(0,1919) 0.000\n",
      "(540,0) 1.000\n",
      "(540,960) 0.500\n",
      "(540,1919) 0.000\n",
      "(1079,0) 1.000\n",
      "(1079,960) 0.500\n",
      "(1079,1919) 0.000\n",
      "[[[175 139 121]\n",
      "  [175 139 121]\n",
      "  [177 141 123]\n",
      "  ...\n",
      "  [182 152 135]\n",
      "  [179 149 132]\n",
      "  [178 148 131]]\n",
      "\n",
      " [[174 138 120]\n",
      "  [175 139 121]\n",
      "  [178 142 124]\n",
      "  ...\n",
      "  [185 155 138]\n",
      "  [183 153 136]\n",
      "  [182 152 135]]\n",
      "\n",
      " [[172 137 117]\n",
      "  [175 140 120]\n",
      "  [179 144 124]\n",
      "  ...\n",
      "  [188 160 143]\n",
      "  [186 157 142]\n",
      "  [185 156 141]]\n",
      "\n",
      " ...\n",
      "\n",
      " [[ 52  27   7]\n",
      "  [ 50  25   5]\n",
      "  [ 52  27   7]\n",
      "  ...\n",
      "  [ 59  32   6]\n",
      "  [ 66  39  13]\n",
      "  [ 74  47  21]]\n",
      "\n",
      " [[ 52  27   7]\n",
      "  [ 50  25   5]\n",
      "  [ 52  27   7]\n",
      "  ...\n",
      "  [ 64  37  11]\n",
      "  [ 74  47  21]\n",
      "  [ 86  59  33]]\n",
      "\n",
      " [[ 53  28   8]\n",
      "  [ 50  25   5]\n",
      "  [ 51  26   6]\n",
      "  ...\n",
      "  [ 69  42  16]\n",
      "  [ 83  56  30]\n",
      "  [ 98  71  45]]]\n",
      "[[[175 139 121]\n",
      "  [174 138 120]\n",
      "  [176 140 122]\n",
      "  ...\n",
      "  [  0   0   0]\n",
      "  [  0   0   0]\n",
      "  [  0   0   0]]\n",
      "\n",
      " [[174 138 120]\n",
      "  [174 138 120]\n",
      "  [177 141 123]\n",
      "  ...\n",
      "  [  0   0   0]\n",
      "  [  0   0   0]\n",
      "  [  0   0   0]]\n",
      "\n",
      " [[172 137 117]\n",
      "  [174 139 119]\n",
      "  [178 143 123]\n",
      "  ...\n",
      "  [  0   0   0]\n",
      "  [  0   0   0]\n",
      "  [  0   0   0]]\n",
      "\n",
      " ...\n",
      "\n",
      " [[ 52  27   7]\n",
      "  [ 49  24   4]\n",
      "  [ 51  26   6]\n",
      "  ...\n",
      "  [  0   0   0]\n",
      "  [  0   0   0]\n",
      "  [  0   0   0]]\n",
      "\n",
      " [[ 52  27   7]\n",
      "  [ 49  24   4]\n",
      "  [ 51  26   6]\n",
      "  ...\n",
      "  [  0   0   0]\n",
      "  [  0   0   0]\n",
      "  [  0   0   0]]\n",
      "\n",
      " [[ 53  28   8]\n",
      "  [ 49  24   4]\n",
      "  [ 50  25   5]\n",
      "  ...\n",
      "  [  0   0   0]\n",
      "  [  0   0   0]\n",
      "  [  0   0   0]]]\n"
     ]
    }
   ],
   "source": [
    "shaded_img = None\n",
    "multiplier_matrix = None\n",
    "if DIR == \"right\":\n",
    "    multiplier_matrix = (np.tile(np.arange(N_columns), (M_rows, 1))/(N_columns-1)) #(row, column) multiplers\n",
    "    #sample = (img * right_multiplier_matrix.reshape(1080, 1920, 1)).astype(img.dtype)\n",
    "elif DIR == \"left\":\n",
    "    multiplier_matrix = (np.tile(np.arange(N_columns)[::-1], (M_rows, 1))/(N_columns-1)) #(row, column) multiplers\n",
    "    #sample = (img * left_multiplier_matrix.reshape(1080, 1920, 1)).astype(img.dtype)\n",
    "elif DIR == \"down\":\n",
    "    multiplier_matrix = np.tile(np.arange(M_rows), (N_columns, 1)).T/(M_rows-1) #(row, column) multiplers\n",
    "    #sample = (img * down_multiplier_matrix.reshape(1080, 1920, 1)).astype(img.dtype)\n",
    "elif DIR == \"top\":\n",
    "    multiplier_matrix = np.tile(np.arange(M_rows)[::-1], (N_columns, 1)).T/(M_rows-1) #(row, column) multiplers\n",
    "    #sample = (img * down_multiplier_matrix.reshape(1080, 1920, 1)).astype(img.dtype)\n",
    "elif DIR == \"center\":\n",
    "    #Assembling the distance matrices by combining the left and right haves with the middle row/column\n",
    "    row_dist_matrix = np.concatenate((np.tile(np.arange(M_rows//2 + 1)[1:][::-1], (N_columns,1)).T, np.zeros((1, N_columns)), np.tile(np.arange(M_rows - M_rows//2)[1:], (N_columns,1)).T), axis=0)\n",
    "    col_dist_matrix = np.concatenate((np.tile(np.arange(N_columns//2 + 1)[1:][::-1], (M_rows,1)), np.zeros((M_rows, 1)), np.tile(np.arange(N_columns - N_columns//2)[1:], (M_rows,1))), axis=1)\n",
    "    combined_distance_matrix = np.sqrt(np.square(col_dist_matrix) + np.square(row_dist_matrix))\n",
    "    #print(np.abs((combined_distance_matrix - np.max(combined_distance_matrix)) / np.max(combined_distance_matrix)))\n",
    "    multiplier_matrix = np.abs((combined_distance_matrix - np.max(combined_distance_matrix)) / np.max(combined_distance_matrix))\n",
    "\n",
    "for row in [0, M_rows//2, M_rows-1]:\n",
    "    for column in [0, N_columns//2, N_columns-1]:\n",
    "        print(\"({},{}) {:.3f}\".format(row, column, multiplier_matrix[row,column]))\n",
    "shaded_img = (img * multiplier_matrix.reshape(M_rows, N_columns, 1)).astype(img.dtype)\n",
    "final_img = np.concatenate((img, shaded_img), axis=1)"
   ]
  },
  {
   "cell_type": "code",
   "execution_count": null,
   "id": "1f3ab77a",
   "metadata": {},
   "outputs": [],
   "source": []
  },
  {
   "cell_type": "code",
   "execution_count": 165,
   "id": "638305f5",
   "metadata": {},
   "outputs": [
    {
     "data": {
      "text/plain": [
       "True"
      ]
     },
     "execution_count": 165,
     "metadata": {},
     "output_type": "execute_result"
    }
   ],
   "source": [
    "cv2.imwrite(OUT_DIR, final_img)\n",
    "#cv2.imshow(\"image\", final_img)\n",
    "#cv2.waitKey(0)\n",
    "#cv2.destroyAllWindows()"
   ]
  },
  {
   "cell_type": "code",
   "execution_count": null,
   "id": "90974145",
   "metadata": {},
   "outputs": [],
   "source": []
  }
 ],
 "metadata": {
  "kernelspec": {
   "display_name": "Python 3 (ipykernel)",
   "language": "python",
   "name": "python3"
  },
  "language_info": {
   "codemirror_mode": {
    "name": "ipython",
    "version": 3
   },
   "file_extension": ".py",
   "mimetype": "text/x-python",
   "name": "python",
   "nbconvert_exporter": "python",
   "pygments_lexer": "ipython3",
   "version": "3.8.12"
  }
 },
 "nbformat": 4,
 "nbformat_minor": 5
}
