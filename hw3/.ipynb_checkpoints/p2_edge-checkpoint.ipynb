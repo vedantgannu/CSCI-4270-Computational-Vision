{
 "cells": [
  {
   "cell_type": "code",
   "execution_count": 118,
   "id": "ef36d412",
   "metadata": {},
   "outputs": [],
   "source": [
    "import cv2\n",
    "import numpy as np"
   ]
  },
  {
   "cell_type": "code",
   "execution_count": 132,
   "id": "c4c6fb24",
   "metadata": {},
   "outputs": [],
   "source": [
    "IMG_PATH = \"hw3_data/disk.png\"#\"hw3_data/tree_sky.jpg\"\n",
    "img = cv2.imread(IMG_PATH, cv2.IMREAD_GRAYSCALE)"
   ]
  },
  {
   "cell_type": "code",
   "execution_count": 133,
   "id": "0dfb7f88",
   "metadata": {},
   "outputs": [],
   "source": [
    "sigma = 1.0#1.5#float(sys.argv[1])\n",
    "width = max(3, int(4*sigma+1))\n",
    "ksize = (width,width)\n",
    "im_s = cv2.GaussianBlur(img.astype(np.float32), ksize, sigma)\n",
    "#im_s = img.astype(np.float32)"
   ]
  },
  {
   "cell_type": "code",
   "execution_count": null,
   "id": "dedb6680",
   "metadata": {},
   "outputs": [],
   "source": []
  },
  {
   "cell_type": "code",
   "execution_count": 134,
   "id": "102eb603",
   "metadata": {},
   "outputs": [],
   "source": [
    "kx,ky = cv2.getDerivKernels(1,1,3)\n",
    "kx = np.transpose(kx/2)\n",
    "ky = ky/2\n",
    "im_dx = cv2.filter2D(im_s, -1, kx)\n",
    "im_dy = cv2.filter2D(im_s, -1, ky)\n",
    "\n",
    "gradient_magnitudes = np.sqrt(im_dx**2 + im_dy**2)# gradient magnitude #im_gm = np.sqrt(im_dx**2 + im_dy**2)\n",
    "gradient_magnitudes_output = (gradient_magnitudes / np.max(gradient_magnitudes) * 255).astype(\"uint8\")\n",
    "\n",
    "gradient_directions = np.arctan2(im_dy, im_dx)# * -180/np.pi\n",
    "gradient_directions[gradient_directions != 0] *= 180/np.pi"
   ]
  },
  {
   "cell_type": "code",
   "execution_count": 135,
   "id": "740551b5",
   "metadata": {},
   "outputs": [
    {
     "name": "stdout",
     "output_type": "stream",
     "text": [
      "(array([  0,   0,   0, ..., 217, 217, 217], dtype=int64), array([  0,   1,   2, ..., 228, 229, 230], dtype=int64))\n"
     ]
    },
    {
     "name": "stderr",
     "output_type": "stream",
     "text": [
      "C:\\Users\\VEDANT~1\\AppData\\Local\\Temp/ipykernel_54872/3227688247.py:31: FutureWarning: Using a non-tuple sequence for multidimensional indexing is deprecated; use `arr[tuple(seq)]` instead of `arr[seq]`. In the future this will be interpreted as an array index, `arr[np.array(seq)]`, which will result either in an error or a different result.\n",
      "  bool_arr = (gradient_magnitudes[list(temp_east_west_coordinates)] >= gradient_magnitudes[list(temp_behind)])\\\n",
      "C:\\Users\\VEDANT~1\\AppData\\Local\\Temp/ipykernel_54872/3227688247.py:32: FutureWarning: Using a non-tuple sequence for multidimensional indexing is deprecated; use `arr[tuple(seq)]` instead of `arr[seq]`. In the future this will be interpreted as an array index, `arr[np.array(seq)]`, which will result either in an error or a different result.\n",
      "  & (gradient_magnitudes[list(temp_east_west_coordinates)] >= gradient_magnitudes[list(temp_ahead)])\\\n",
      "C:\\Users\\VEDANT~1\\AppData\\Local\\Temp/ipykernel_54872/3227688247.py:33: FutureWarning: Using a non-tuple sequence for multidimensional indexing is deprecated; use `arr[tuple(seq)]` instead of `arr[seq]`. In the future this will be interpreted as an array index, `arr[np.array(seq)]`, which will result either in an error or a different result.\n",
      "  & (gradient_magnitudes[list(temp_east_west_coordinates)] != 0) & (gradient_magnitudes[list(temp_ahead)] != 0)\\\n",
      "C:\\Users\\VEDANT~1\\AppData\\Local\\Temp/ipykernel_54872/3227688247.py:34: FutureWarning: Using a non-tuple sequence for multidimensional indexing is deprecated; use `arr[tuple(seq)]` instead of `arr[seq]`. In the future this will be interpreted as an array index, `arr[np.array(seq)]`, which will result either in an error or a different result.\n",
      "  & (gradient_magnitudes[list(temp_behind)] != 0)\n",
      "C:\\Users\\VEDANT~1\\AppData\\Local\\Temp/ipykernel_54872/3227688247.py:38: FutureWarning: Using a non-tuple sequence for multidimensional indexing is deprecated; use `arr[tuple(seq)]` instead of `arr[seq]`. In the future this will be interpreted as an array index, `arr[np.array(seq)]`, which will result either in an error or a different result.\n",
      "  edgels[list(east_west_coordinates_maximum)] = 1 #Indicate edgels (red)\n"
     ]
    }
   ],
   "source": [
    "edgels = np.zeros(gradient_magnitudes.shape)\n",
    "#Determining edgels from pixels with East or West facing gradient orientation\n",
    "#Getting coordinates of pixels with gradient orientation East or West\n",
    "east_west_coordinates = np.where(\n",
    "                                ((gradient_directions > -22.5) & (gradient_directions < 22.5))\n",
    "                                | ((gradient_directions < -157.5) | (gradient_directions > 157.5)))\n",
    "print(east_west_coordinates)\n",
    "temp_east_west_coordinates = np.array(east_west_coordinates)\n",
    "\n",
    "\n",
    "behind_coordinates = (east_west_coordinates[0], east_west_coordinates[1] - 1)\n",
    "ahead_coordinates = (east_west_coordinates[0], east_west_coordinates[1] + 1)\n",
    "\n",
    "temp_behind = np.array(behind_coordinates)\n",
    "cols_delete = []\n",
    "cols_delete += np.where((temp_behind < 0))[1].tolist()#Getting columns that have negative index val for column\n",
    "\n",
    "temp_ahead = np.array(ahead_coordinates)\n",
    "cols_delete += np.where((temp_ahead == gradient_directions.shape[1]))[1].tolist()#Getting columns that have index val above column numbers\n",
    "cols_delete = list(set(cols_delete))\n",
    "\n",
    "temp_behind = np.delete(temp_behind, cols_delete, axis=1)\n",
    "temp_ahead = np.delete(temp_ahead, cols_delete, axis=1)\n",
    "temp_east_west_coordinates = np.delete(temp_east_west_coordinates, cols_delete, axis=1)\n",
    "\n",
    "\n",
    "#print(temp_ahead.shape)\n",
    "#print(temp_east_west_coordinates.shape)\n",
    "\n",
    "#Surpressing coordinates based on neighbors gradient mags\n",
    "bool_arr = (gradient_magnitudes[list(temp_east_west_coordinates)] >= gradient_magnitudes[list(temp_behind)])\\\n",
    "    & (gradient_magnitudes[list(temp_east_west_coordinates)] >= gradient_magnitudes[list(temp_ahead)])\\\n",
    "    & (gradient_magnitudes[list(temp_east_west_coordinates)] != 0) & (gradient_magnitudes[list(temp_ahead)] != 0)\\\n",
    "    & (gradient_magnitudes[list(temp_behind)] != 0)\n",
    "\n",
    "#print(temp_east_west_coordinates.shape)\n",
    "east_west_coordinates_maximum = np.delete(temp_east_west_coordinates, np.argwhere(bool_arr == False).flatten().tolist(), axis=1)\n",
    "edgels[list(east_west_coordinates_maximum)] = 1 #Indicate edgels (red)\n",
    "#print(edgels)\n",
    "\n",
    "\n"
   ]
  },
  {
   "cell_type": "code",
   "execution_count": null,
   "id": "7530553a",
   "metadata": {},
   "outputs": [],
   "source": []
  },
  {
   "cell_type": "code",
   "execution_count": 136,
   "id": "b54ea6d0",
   "metadata": {},
   "outputs": [
    {
     "name": "stderr",
     "output_type": "stream",
     "text": [
      "C:\\Users\\VEDANT~1\\AppData\\Local\\Temp/ipykernel_54872/3302722636.py:27: FutureWarning: Using a non-tuple sequence for multidimensional indexing is deprecated; use `arr[tuple(seq)]` instead of `arr[seq]`. In the future this will be interpreted as an array index, `arr[np.array(seq)]`, which will result either in an error or a different result.\n",
      "  bool_arr = (gradient_magnitudes[list(temp_north_south_coordinates)] >= gradient_magnitudes[list(temp_behind)])\\\n",
      "C:\\Users\\VEDANT~1\\AppData\\Local\\Temp/ipykernel_54872/3302722636.py:28: FutureWarning: Using a non-tuple sequence for multidimensional indexing is deprecated; use `arr[tuple(seq)]` instead of `arr[seq]`. In the future this will be interpreted as an array index, `arr[np.array(seq)]`, which will result either in an error or a different result.\n",
      "  & (gradient_magnitudes[list(temp_north_south_coordinates)] >= gradient_magnitudes[list(temp_ahead)])\\\n",
      "C:\\Users\\VEDANT~1\\AppData\\Local\\Temp/ipykernel_54872/3302722636.py:29: FutureWarning: Using a non-tuple sequence for multidimensional indexing is deprecated; use `arr[tuple(seq)]` instead of `arr[seq]`. In the future this will be interpreted as an array index, `arr[np.array(seq)]`, which will result either in an error or a different result.\n",
      "  & (gradient_magnitudes[list(temp_north_south_coordinates)] != 0) & (gradient_magnitudes[list(temp_ahead)] != 0)\\\n",
      "C:\\Users\\VEDANT~1\\AppData\\Local\\Temp/ipykernel_54872/3302722636.py:30: FutureWarning: Using a non-tuple sequence for multidimensional indexing is deprecated; use `arr[tuple(seq)]` instead of `arr[seq]`. In the future this will be interpreted as an array index, `arr[np.array(seq)]`, which will result either in an error or a different result.\n",
      "  & (gradient_magnitudes[list(temp_behind)] != 0)\n",
      "C:\\Users\\VEDANT~1\\AppData\\Local\\Temp/ipykernel_54872/3302722636.py:34: FutureWarning: Using a non-tuple sequence for multidimensional indexing is deprecated; use `arr[tuple(seq)]` instead of `arr[seq]`. In the future this will be interpreted as an array index, `arr[np.array(seq)]`, which will result either in an error or a different result.\n",
      "  edgels[list(north_south_coordinates_maximum)] = 3 #Indicate edgels (blue)\n"
     ]
    }
   ],
   "source": [
    "north_south_coordinates = np.where(\n",
    "                                ((gradient_directions > 67.5) & (gradient_directions < 112.5))\n",
    "                                | ((gradient_directions > -112.5) & (gradient_directions < -67.5)))\n",
    "\n",
    "temp_north_south_coordinates = np.array(north_south_coordinates)\n",
    "behind_coordinates = (north_south_coordinates[0] - 1, north_south_coordinates[1])\n",
    "ahead_coordinates = (north_south_coordinates[0] + 1, north_south_coordinates[1])\n",
    "#print(behind_coordinates)\n",
    "\n",
    "temp_behind = np.array(behind_coordinates)\n",
    "cols_delete = []\n",
    "cols_delete += np.where((temp_behind < 0))[1].tolist()#Getting columns that have negative index val for row (outside of image)\n",
    "\n",
    "temp_ahead = np.array(ahead_coordinates)\n",
    "cols_delete += np.where((temp_ahead == gradient_directions.shape[0]))[1].tolist()#Getting columns that have index val above row numbers (outside of image)\n",
    "cols_delete = list(set(cols_delete))\n",
    "\n",
    "temp_behind = np.delete(temp_behind, cols_delete, axis=1)\n",
    "temp_ahead = np.delete(temp_ahead, cols_delete, axis=1)\n",
    "temp_north_south_coordinates = np.delete(temp_north_south_coordinates, cols_delete, axis=1)\n",
    "\n",
    "#print(temp_ahead.shape)\n",
    "#print(temp_north_south_coordinates.shape)\n",
    "\n",
    "#Surpressing coordinates based on neighbors gradient mags. Handles the zero gradient issue by ensuring\n",
    "#that for each pixel, the pixel and its neighbors have nonzero gradients\n",
    "bool_arr = (gradient_magnitudes[list(temp_north_south_coordinates)] >= gradient_magnitudes[list(temp_behind)])\\\n",
    "    & (gradient_magnitudes[list(temp_north_south_coordinates)] >= gradient_magnitudes[list(temp_ahead)])\\\n",
    "    & (gradient_magnitudes[list(temp_north_south_coordinates)] != 0) & (gradient_magnitudes[list(temp_ahead)] != 0)\\\n",
    "    & (gradient_magnitudes[list(temp_behind)] != 0)\n",
    "\n",
    "#print(temp_east_west_coordinates.shape)\n",
    "north_south_coordinates_maximum = np.delete(temp_north_south_coordinates, np.argwhere(bool_arr == False).flatten().tolist(), axis=1)\n",
    "edgels[list(north_south_coordinates_maximum)] = 3 #Indicate edgels (blue)\n",
    "#print(np.where(edgels == 1))\n"
   ]
  },
  {
   "cell_type": "code",
   "execution_count": null,
   "id": "d6396877",
   "metadata": {},
   "outputs": [],
   "source": []
  },
  {
   "cell_type": "code",
   "execution_count": 137,
   "id": "cd3fd9a0",
   "metadata": {},
   "outputs": [
    {
     "name": "stderr",
     "output_type": "stream",
     "text": [
      "C:\\Users\\VEDANT~1\\AppData\\Local\\Temp/ipykernel_54872/1749760769.py:27: FutureWarning: Using a non-tuple sequence for multidimensional indexing is deprecated; use `arr[tuple(seq)]` instead of `arr[seq]`. In the future this will be interpreted as an array index, `arr[np.array(seq)]`, which will result either in an error or a different result.\n",
      "  bool_arr = (gradient_magnitudes[list(temp_northwest_southeast_coordinates)] >= gradient_magnitudes[list(temp_behind)])\\\n",
      "C:\\Users\\VEDANT~1\\AppData\\Local\\Temp/ipykernel_54872/1749760769.py:28: FutureWarning: Using a non-tuple sequence for multidimensional indexing is deprecated; use `arr[tuple(seq)]` instead of `arr[seq]`. In the future this will be interpreted as an array index, `arr[np.array(seq)]`, which will result either in an error or a different result.\n",
      "  & (gradient_magnitudes[list(temp_northwest_southeast_coordinates)] >= gradient_magnitudes[list(temp_ahead)])\\\n",
      "C:\\Users\\VEDANT~1\\AppData\\Local\\Temp/ipykernel_54872/1749760769.py:29: FutureWarning: Using a non-tuple sequence for multidimensional indexing is deprecated; use `arr[tuple(seq)]` instead of `arr[seq]`. In the future this will be interpreted as an array index, `arr[np.array(seq)]`, which will result either in an error or a different result.\n",
      "  & (gradient_magnitudes[list(temp_northwest_southeast_coordinates)] != 0) & (gradient_magnitudes[list(temp_ahead)] != 0)\\\n",
      "C:\\Users\\VEDANT~1\\AppData\\Local\\Temp/ipykernel_54872/1749760769.py:30: FutureWarning: Using a non-tuple sequence for multidimensional indexing is deprecated; use `arr[tuple(seq)]` instead of `arr[seq]`. In the future this will be interpreted as an array index, `arr[np.array(seq)]`, which will result either in an error or a different result.\n",
      "  & (gradient_magnitudes[list(temp_behind)] != 0)\n",
      "C:\\Users\\VEDANT~1\\AppData\\Local\\Temp/ipykernel_54872/1749760769.py:34: FutureWarning: Using a non-tuple sequence for multidimensional indexing is deprecated; use `arr[tuple(seq)]` instead of `arr[seq]`. In the future this will be interpreted as an array index, `arr[np.array(seq)]`, which will result either in an error or a different result.\n",
      "  edgels[list(northwest_southeast_coordinates_maximum)] = 2 #Indicate edgels (green)\n"
     ]
    }
   ],
   "source": [
    "northwest_southeast_coordinates = np.where(\n",
    "                                ((gradient_directions > 22.5) & (gradient_directions < 67.5))\n",
    "                                | ((gradient_directions < -112.5) & (gradient_directions > -157.5)))\n",
    "\n",
    "temp_northwest_southeast_coordinates = np.array(northwest_southeast_coordinates)\n",
    "behind_coordinates = (northwest_southeast_coordinates[0] - 1, northwest_southeast_coordinates[1] - 1)\n",
    "ahead_coordinates = (northwest_southeast_coordinates[0] + 1, northwest_southeast_coordinates[1] + 1)\n",
    "#print(behind_coordinates)\n",
    "\n",
    "temp_behind = np.array(behind_coordinates)\n",
    "cols_delete = []\n",
    "cols_delete += np.where((temp_behind < 0))[1].tolist()#Getting columns that have negative index val for row (outside of image)\n",
    "\n",
    "temp_ahead = np.array(ahead_coordinates)\n",
    "cols_delete += np.where((temp_ahead == gradient_directions.shape[0]) | (temp_ahead == gradient_directions.shape[1]))[1].tolist()#Getting columns that have index val above row numbers (outside of image)\n",
    "cols_delete = list(set(cols_delete))\n",
    "\n",
    "temp_behind = np.delete(temp_behind, cols_delete, axis=1)\n",
    "temp_ahead = np.delete(temp_ahead, cols_delete, axis=1)\n",
    "temp_northwest_southeast_coordinates = np.delete(temp_northwest_southeast_coordinates, cols_delete, axis=1)\n",
    "\n",
    "#print(temp_ahead.shape)\n",
    "#print(temp_north_south_coordinates.shape)\n",
    "\n",
    "#Surpressing coordinates based on neighbors gradient mags. Handles the zero gradient issue by ensuring\n",
    "#that for each pixel, the pixel and its neighbors have nonzero gradients\n",
    "bool_arr = (gradient_magnitudes[list(temp_northwest_southeast_coordinates)] >= gradient_magnitudes[list(temp_behind)])\\\n",
    "    & (gradient_magnitudes[list(temp_northwest_southeast_coordinates)] >= gradient_magnitudes[list(temp_ahead)])\\\n",
    "    & (gradient_magnitudes[list(temp_northwest_southeast_coordinates)] != 0) & (gradient_magnitudes[list(temp_ahead)] != 0)\\\n",
    "    & (gradient_magnitudes[list(temp_behind)] != 0)\n",
    "\n",
    "#print(temp_east_west_coordinates.shape)\n",
    "northwest_southeast_coordinates_maximum = np.delete(temp_northwest_southeast_coordinates, np.argwhere(bool_arr == False).flatten().tolist(), axis=1)\n",
    "edgels[list(northwest_southeast_coordinates_maximum)] = 2 #Indicate edgels (green)\n",
    "#print(np.where(edgels == 1))"
   ]
  },
  {
   "cell_type": "code",
   "execution_count": null,
   "id": "0abe79bd",
   "metadata": {},
   "outputs": [],
   "source": []
  },
  {
   "cell_type": "code",
   "execution_count": 138,
   "id": "59705ed7",
   "metadata": {},
   "outputs": [
    {
     "name": "stderr",
     "output_type": "stream",
     "text": [
      "C:\\Users\\VEDANT~1\\AppData\\Local\\Temp/ipykernel_54872/913875013.py:27: FutureWarning: Using a non-tuple sequence for multidimensional indexing is deprecated; use `arr[tuple(seq)]` instead of `arr[seq]`. In the future this will be interpreted as an array index, `arr[np.array(seq)]`, which will result either in an error or a different result.\n",
      "  bool_arr = (gradient_magnitudes[list(temp_northeast_southwest_coordinates)] >= gradient_magnitudes[list(temp_behind)])\\\n",
      "C:\\Users\\VEDANT~1\\AppData\\Local\\Temp/ipykernel_54872/913875013.py:28: FutureWarning: Using a non-tuple sequence for multidimensional indexing is deprecated; use `arr[tuple(seq)]` instead of `arr[seq]`. In the future this will be interpreted as an array index, `arr[np.array(seq)]`, which will result either in an error or a different result.\n",
      "  & (gradient_magnitudes[list(temp_northeast_southwest_coordinates)] >= gradient_magnitudes[list(temp_ahead)])\\\n",
      "C:\\Users\\VEDANT~1\\AppData\\Local\\Temp/ipykernel_54872/913875013.py:29: FutureWarning: Using a non-tuple sequence for multidimensional indexing is deprecated; use `arr[tuple(seq)]` instead of `arr[seq]`. In the future this will be interpreted as an array index, `arr[np.array(seq)]`, which will result either in an error or a different result.\n",
      "  & (gradient_magnitudes[list(temp_northeast_southwest_coordinates)] != 0) & (gradient_magnitudes[list(temp_ahead)] != 0)\\\n",
      "C:\\Users\\VEDANT~1\\AppData\\Local\\Temp/ipykernel_54872/913875013.py:30: FutureWarning: Using a non-tuple sequence for multidimensional indexing is deprecated; use `arr[tuple(seq)]` instead of `arr[seq]`. In the future this will be interpreted as an array index, `arr[np.array(seq)]`, which will result either in an error or a different result.\n",
      "  & (gradient_magnitudes[list(temp_behind)] != 0)\n",
      "C:\\Users\\VEDANT~1\\AppData\\Local\\Temp/ipykernel_54872/913875013.py:34: FutureWarning: Using a non-tuple sequence for multidimensional indexing is deprecated; use `arr[tuple(seq)]` instead of `arr[seq]`. In the future this will be interpreted as an array index, `arr[np.array(seq)]`, which will result either in an error or a different result.\n",
      "  edgels[list(northeast_southwest_coordinates_maximum)] = 4 #Indicate edgels (white)\n"
     ]
    }
   ],
   "source": [
    "northeast_southwest_coordinates = np.where(\n",
    "                                ((gradient_directions > 112.5) & (gradient_directions < 157.5))\n",
    "                                | ((gradient_directions < -22.5) & (gradient_directions > -67.5)))\n",
    "\n",
    "temp_northeast_southwest_coordinates = np.array(northeast_southwest_coordinates)\n",
    "behind_coordinates = (northeast_southwest_coordinates[0] - 1, northeast_southwest_coordinates[1] + 1)\n",
    "ahead_coordinates = (northeast_southwest_coordinates[0] + 1, northeast_southwest_coordinates[1] - 1)\n",
    "#print(behind_coordinates)\n",
    "\n",
    "temp_behind = np.array(behind_coordinates)\n",
    "cols_delete = []\n",
    "cols_delete += np.where((temp_behind < 0) | (temp_behind == gradient_directions.shape[1]))[1].tolist()#Getting columns that have negative index val for row (outside of image)\n",
    "\n",
    "temp_ahead = np.array(ahead_coordinates)\n",
    "cols_delete += np.where((temp_ahead == gradient_directions.shape[0]) | (temp_ahead < 0))[1].tolist()#Getting columns that have index val above row numbers (outside of image)\n",
    "cols_delete = list(set(cols_delete))\n",
    "\n",
    "temp_behind = np.delete(temp_behind, cols_delete, axis=1)\n",
    "temp_ahead = np.delete(temp_ahead, cols_delete, axis=1)\n",
    "temp_northeast_southwest_coordinates = np.delete(temp_northeast_southwest_coordinates, cols_delete, axis=1)\n",
    "\n",
    "#print(temp_ahead.shape)\n",
    "#print(temp_north_south_coordinates.shape)\n",
    "\n",
    "#Surpressing coordinates based on neighbors gradient mags. Handles the zero gradient issue by ensuring\n",
    "#that for each pixel, the pixel and its neighbors have nonzero gradients\n",
    "bool_arr = (gradient_magnitudes[list(temp_northeast_southwest_coordinates)] >= gradient_magnitudes[list(temp_behind)])\\\n",
    "    & (gradient_magnitudes[list(temp_northeast_southwest_coordinates)] >= gradient_magnitudes[list(temp_ahead)])\\\n",
    "    & (gradient_magnitudes[list(temp_northeast_southwest_coordinates)] != 0) & (gradient_magnitudes[list(temp_ahead)] != 0)\\\n",
    "    & (gradient_magnitudes[list(temp_behind)] != 0)\n",
    "\n",
    "#print(temp_east_west_coordinates.shape)\n",
    "northeast_southwest_coordinates_maximum = np.delete(temp_northeast_southwest_coordinates, np.argwhere(bool_arr == False).flatten().tolist(), axis=1)\n",
    "edgels[list(northeast_southwest_coordinates_maximum)] = 4 #Indicate edgels (white)\n",
    "#print(np.where(edgels == 1))"
   ]
  },
  {
   "cell_type": "code",
   "execution_count": 139,
   "id": "62417917",
   "metadata": {},
   "outputs": [],
   "source": [
    "#Producing gradient direction image\n",
    "gradient_direction_image = cv2.imread(IMG_PATH)\n",
    "gradient_direction_image[east_west_coordinates] = [0, 0, 255]\n",
    "gradient_direction_image[northwest_southeast_coordinates] = [0, 255, 0]\n",
    "gradient_direction_image[north_south_coordinates] = [255, 0, 0]\n",
    "gradient_direction_image[np.where(edgels == 4)] = [255, 255, 255]\n",
    "gradient_direction_image[np.where(gradient_magnitudes < 1.0)] = [0, 0, 0]\n",
    "gradient_direction_image[:, [0, gradient_direction_image.shape[1]-1]] = [0, 0, 0]\n",
    "gradient_direction_image[[0, gradient_direction_image.shape[0]-1], :] = [0, 0, 0]"
   ]
  },
  {
   "cell_type": "code",
   "execution_count": 140,
   "id": "a52cef70",
   "metadata": {},
   "outputs": [
    {
     "data": {
      "text/plain": [
       "array([[0., 0., 0., ..., 0., 0., 0.],\n",
       "       [0., 0., 0., ..., 0., 0., 0.],\n",
       "       [0., 0., 0., ..., 0., 0., 0.],\n",
       "       ...,\n",
       "       [0., 0., 0., ..., 0., 0., 0.],\n",
       "       [0., 0., 0., ..., 0., 0., 0.],\n",
       "       [0., 0., 0., ..., 0., 0., 0.]], dtype=float32)"
      ]
     },
     "execution_count": 140,
     "metadata": {},
     "output_type": "execute_result"
    }
   ],
   "source": [
    "gradient_magnitudes"
   ]
  },
  {
   "cell_type": "code",
   "execution_count": 141,
   "id": "a1493434",
   "metadata": {},
   "outputs": [
    {
     "name": "stdout",
     "output_type": "stream",
     "text": [
      "Number after non-maximum: 605\n",
      "Number after 1.0 threshold: 596\n",
      "mu: 76.55763\n",
      "s: 3.8281527\n",
      "Threshold: 30.0\n",
      "Number after threshold:\n"
     ]
    },
    {
     "name": "stderr",
     "output_type": "stream",
     "text": [
      "C:\\Users\\VEDANT~1\\AppData\\Local\\Temp/ipykernel_54872/2555970479.py:7: FutureWarning: Using a non-tuple sequence for multidimensional indexing is deprecated; use `arr[tuple(seq)]` instead of `arr[seq]`. In the future this will be interpreted as an array index, `arr[np.array(seq)]`, which will result either in an error or a different result.\n",
      "  mean = np.mean(gradient_magnitudes[list(edge_coordinates_remain)])\n",
      "C:\\Users\\VEDANT~1\\AppData\\Local\\Temp/ipykernel_54872/2555970479.py:9: FutureWarning: Using a non-tuple sequence for multidimensional indexing is deprecated; use `arr[tuple(seq)]` instead of `arr[seq]`. In the future this will be interpreted as an array index, `arr[np.array(seq)]`, which will result either in an error or a different result.\n",
      "  standard_deviation = np.std(gradient_magnitudes[list(edge_coordinates_remain)])\n"
     ]
    }
   ],
   "source": [
    "#Thresholding\n",
    "edge_coordinates = np.where(edgels != 0)\n",
    "print(\"Number after non-maximum:\", np.array(edge_coordinates).shape[1])\n",
    "bool_arr = gradient_magnitudes[edge_coordinates] < 1\n",
    "edge_coordinates_remain = np.delete(np.array(edge_coordinates), np.argwhere(bool_arr == True).flatten().tolist(), axis=1)#Got rid of edgels that have grad < 1.0\n",
    "print(\"Number after 1.0 threshold:\", edge_coordinates_remain.shape[1])\n",
    "mean = np.mean(gradient_magnitudes[list(edge_coordinates_remain)])\n",
    "print(\"mu:\", mean)\n",
    "standard_deviation = np.std(gradient_magnitudes[list(edge_coordinates_remain)])\n",
    "print(\"s:\", standard_deviation)\n",
    "threshold = min(mean + 0.5*standard_deviation, 30/sigma)\n",
    "print(\"Threshold:\", threshold)\n",
    "\n",
    "print(\"Number after threshold:\", )"
   ]
  },
  {
   "cell_type": "code",
   "execution_count": null,
   "id": "c1c738cb",
   "metadata": {},
   "outputs": [],
   "source": []
  },
  {
   "cell_type": "code",
   "execution_count": 129,
   "id": "983ac19c",
   "metadata": {},
   "outputs": [],
   "source": [
    "#cv2.imshow(\"image\", gradient_direction_image.astype(\"uint8\")\n",
    "#cv2.imshow(\"image\", im_s.astype(\"uint8\"))\n",
    "cv2.imshow(\"image\", (gradient_direction_image / np.max(gradient_direction_image) * 255).astype(\"uint8\"))\n",
    "#cv2.imshow(\"image\", gradient_magnitudes_output.astype(\"uint8\"))\n",
    "cv2.waitKey(0)\n",
    "cv2.destroyAllWindows()"
   ]
  },
  {
   "cell_type": "code",
   "execution_count": null,
   "id": "16bfd767",
   "metadata": {},
   "outputs": [],
   "source": []
  }
 ],
 "metadata": {
  "kernelspec": {
   "display_name": "Python 3 (ipykernel)",
   "language": "python",
   "name": "python3"
  },
  "language_info": {
   "codemirror_mode": {
    "name": "ipython",
    "version": 3
   },
   "file_extension": ".py",
   "mimetype": "text/x-python",
   "name": "python",
   "nbconvert_exporter": "python",
   "pygments_lexer": "ipython3",
   "version": "3.8.12"
  }
 },
 "nbformat": 4,
 "nbformat_minor": 5
}
