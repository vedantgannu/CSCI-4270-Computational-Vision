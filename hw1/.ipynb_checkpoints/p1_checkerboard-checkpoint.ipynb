{
 "cells": [
  {
   "cell_type": "code",
   "execution_count": 2,
   "id": "6c7b310e",
   "metadata": {},
   "outputs": [],
   "source": [
    "import numpy as np"
   ]
  },
  {
   "cell_type": "code",
   "execution_count": 3,
   "id": "9f9955dc",
   "metadata": {},
   "outputs": [],
   "source": [
    "import cv2"
   ]
  },
  {
   "cell_type": "code",
   "execution_count": 1,
   "id": "165a32e7",
   "metadata": {},
   "outputs": [],
   "source": [
    "import sys"
   ]
  },
  {
   "cell_type": "code",
   "execution_count": 4,
   "id": "f64de332",
   "metadata": {},
   "outputs": [],
   "source": [
    "if len(sys.argv) != 5:\n",
    "    print(\"Incorrect number of arguments\")\n",
    "    sys.exit(1)\n",
    "INPUT_IMAGE = sys.argv[1]#\"data_to_post/mountain3.jpg\"\n",
    "OUTPUT_IMAGE = sys.argv[2]#\"thing.jpg\"\n",
    "M_DIM = int(sys.argv[3])#120\n",
    "N_DIM = int(sys.argv[4])#4"
   ]
  },
  {
   "cell_type": "code",
   "execution_count": 17,
   "id": "78f061b5",
   "metadata": {},
   "outputs": [
    {
     "name": "stdout",
     "output_type": "stream",
     "text": [
      "(1080, 1920, 3)\n",
      "Image data_to_post/mountain3.jpg cropped at (0, 420) and (1079, 1499)\n",
      "Resized from (1080, 1080, 3) to (120, 120, 3)\n"
     ]
    }
   ],
   "source": [
    "img = cv2.imread(INPUT_IMAGE)\n",
    "old_shape = img.shape\n",
    "#print(old_shape)\n",
    "\n",
    "min_dimension_loc = np.argmin(img.shape[0:2])\n",
    "if img.shape[0] < img.shape[1]:#If the number of rows is the smallest dimension\n",
    "    adjust_val = np.abs(img.shape[0] - img.shape[1]) / 2\n",
    "    img = img[:,int(adjust_val):img.shape[1]-math.ceil(adjust_val)]\n",
    "    print(\"Image {} cropped at (0, {}) and ({}, {})\".format(INPUT_IMAGE, int(adjust_val), img.shape[0]-1, old_shape[1]-math.ceil(adjust_val)-1))\n",
    "elif img.shape[0] > img.shape[1]:#If number of columns is smallest dimension\n",
    "    adjust_val = np.abs(img.shape[0] - img.shape[1]) / 2\n",
    "    img = img[int(adjust_val):img.shape[0]-math.ceil(adjust_val),:,:]\n",
    "    print(\"Image {} cropped at ({}, 0) and ({}, {})\".format(INPUT_IMAGE, int(adjust_val), old_shape[0]-math.ceil(adjust_val)-1),img.shape[1]-1)\n",
    "\n",
    "\n",
    "\n",
    "old_shape = img.shape\n",
    "imgResized = cv2.resize(img, (M_DIM, M_DIM))\n",
    "print(\"Resized from ({}, {}, 3) to ({}, {}, 3)\".format(old_shape[0], old_shape[1], M_DIM, M_DIM))"
   ]
  },
  {
   "cell_type": "code",
   "execution_count": 18,
   "id": "7c4e1ebb",
   "metadata": {},
   "outputs": [],
   "source": [
    "firstRow = np.concatenate((imgResized, 255 - imgResized), axis=1)"
   ]
  },
  {
   "cell_type": "code",
   "execution_count": 19,
   "id": "9d62363a",
   "metadata": {},
   "outputs": [],
   "source": [
    "secondRow =  np.concatenate((255 - np.flip(imgResized, 0), np.flip(imgResized, 0)), axis=1)"
   ]
  },
  {
   "cell_type": "code",
   "execution_count": 20,
   "id": "e280d409",
   "metadata": {},
   "outputs": [],
   "source": [
    "checkerboard_element = np.concatenate((firstRow, secondRow), axis=0)"
   ]
  },
  {
   "cell_type": "code",
   "execution_count": 21,
   "id": "54907e54",
   "metadata": {},
   "outputs": [],
   "source": [
    "final = np.tile(checkerboard_element, (N_DIM, N_DIM, 1))#np.tile(checkerboard_element, (2*N_DIM, 2*N_DIM, 1))"
   ]
  },
  {
   "cell_type": "code",
   "execution_count": 22,
   "id": "03e97d38",
   "metadata": {},
   "outputs": [
    {
     "name": "stdout",
     "output_type": "stream",
     "text": [
      "The checkerboard with dimensions 960 X 960 was output to thing.jpg\n"
     ]
    }
   ],
   "source": [
    "cv2.imwrite(OUTPUT_IMAGE, final)\n",
    "print(\"The checkerboard with dimensions {} X {} was output to {}\".format(2*N_DIM*M_DIM, 2*N_DIM*M_DIM, OUTPUT_IMAGE))"
   ]
  },
  {
   "cell_type": "code",
   "execution_count": null,
   "id": "eb48324f",
   "metadata": {},
   "outputs": [],
   "source": []
  },
  {
   "cell_type": "code",
   "execution_count": null,
   "id": "6f5841c7",
   "metadata": {},
   "outputs": [],
   "source": []
  },
  {
   "cell_type": "code",
   "execution_count": null,
   "id": "ca22433a",
   "metadata": {},
   "outputs": [],
   "source": []
  },
  {
   "cell_type": "code",
   "execution_count": null,
   "id": "5a1f9826",
   "metadata": {},
   "outputs": [],
   "source": []
  },
  {
   "cell_type": "code",
   "execution_count": null,
   "id": "ad147f57",
   "metadata": {},
   "outputs": [],
   "source": []
  },
  {
   "cell_type": "code",
   "execution_count": 23,
   "id": "a50f7b84",
   "metadata": {},
   "outputs": [],
   "source": [
    "#cv2.imshow(\"firstRow\", final)\n",
    "#cv2.waitKey(0)\n",
    "#cv2.destroyAllWindows()"
   ]
  },
  {
   "cell_type": "code",
   "execution_count": null,
   "id": "cf1b2df2",
   "metadata": {},
   "outputs": [],
   "source": []
  }
 ],
 "metadata": {
  "kernelspec": {
   "display_name": "Python 3 (ipykernel)",
   "language": "python",
   "name": "python3"
  },
  "language_info": {
   "codemirror_mode": {
    "name": "ipython",
    "version": 3
   },
   "file_extension": ".py",
   "mimetype": "text/x-python",
   "name": "python",
   "nbconvert_exporter": "python",
   "pygments_lexer": "ipython3",
   "version": "3.8.12"
  }
 },
 "nbformat": 4,
 "nbformat_minor": 5
}
