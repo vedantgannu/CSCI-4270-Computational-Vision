{
 "cells": [
  {
   "cell_type": "code",
   "execution_count": 29,
   "id": "de83d2eb",
   "metadata": {},
   "outputs": [],
   "source": [
    "import numpy as np"
   ]
  },
  {
   "cell_type": "code",
   "execution_count": 30,
   "id": "c089aa0a",
   "metadata": {},
   "outputs": [],
   "source": [
    "import cv2"
   ]
  },
  {
   "cell_type": "code",
   "execution_count": 31,
   "id": "15e015c9",
   "metadata": {},
   "outputs": [],
   "source": [
    "import sys"
   ]
  },
  {
   "cell_type": "code",
   "execution_count": 32,
   "id": "2ac74fec",
   "metadata": {},
   "outputs": [],
   "source": [
    "import os"
   ]
  },
  {
   "cell_type": "code",
   "execution_count": 43,
   "id": "8d3419ae",
   "metadata": {},
   "outputs": [
    {
     "name": "stdout",
     "output_type": "stream",
     "text": [
      "Downsized images are (25, 18)\n",
      "Block images are (750, 540)\n"
     ]
    }
   ],
   "source": [
    "if len(sys.argv) != 5:\n",
    "    print(\"Missing CMD arguments\")\n",
    "    sys.exit(1)\n",
    "FILENAME = sys.argv[1]#\"data_to_post/lincoln1.jpg\"\n",
    "DOWNSIZE_ROWS = int(sys.argv[2])#25\n",
    "DOWNSIZE_COLS = int(sys.argv[3])#18\n",
    "BLOCKS = int(sys.argv[4])#15\n",
    "img = cv2.imread(FILENAME, cv2.IMREAD_GRAYSCALE)\n",
    "scaleFactorRow = img.shape[0]/DOWNSIZE_ROWS\n",
    "scaleFactorCol = img.shape[1]/DOWNSIZE_COLS\n",
    "print(\"Downsized images are ({}, {})\".format(DOWNSIZE_ROWS, DOWNSIZE_COLS))\n",
    "print(\"Block images are ({}, {})\".format(DOWNSIZE_ROWS*BLOCKS, DOWNSIZE_COLS*BLOCKS))"
   ]
  },
  {
   "cell_type": "code",
   "execution_count": null,
   "id": "0654c3c0",
   "metadata": {},
   "outputs": [],
   "source": []
  },
  {
   "cell_type": "code",
   "execution_count": 44,
   "id": "a6533aed",
   "metadata": {},
   "outputs": [
    {
     "name": "stdout",
     "output_type": "stream",
     "text": [
      "Average intensity at (6, 4) is 59.21\n",
      "Average intensity at (6, 13) is 55.46\n",
      "Average intensity at (18, 4) is 158.30\n",
      "Average intensity at (18, 13) is 35.33\n"
     ]
    }
   ],
   "source": [
    "downsized_img = np.zeros((DOWNSIZE_ROWS, DOWNSIZE_COLS))\n",
    "for i in range(DOWNSIZE_ROWS):\n",
    "    for j in range(DOWNSIZE_COLS):\n",
    "        downsized_img[i,j] = np.mean(img[round(i*scaleFactorRow):round((i+1)*scaleFactorRow), round(j*scaleFactorCol):round((j+1)*scaleFactorCol)])\n",
    "print(\"Average intensity at ({}, {}) is {:.2f}\".format(DOWNSIZE_ROWS//4, DOWNSIZE_COLS//4, downsized_img[DOWNSIZE_ROWS//4, DOWNSIZE_COLS//4]))\n",
    "print(\"Average intensity at ({}, {}) is {:.2f}\".format(DOWNSIZE_ROWS//4, 3*DOWNSIZE_COLS//4, downsized_img[DOWNSIZE_ROWS//4, 3*DOWNSIZE_COLS//4]))\n",
    "print(\"Average intensity at ({}, {}) is {:.2f}\".format(3*DOWNSIZE_ROWS//4, DOWNSIZE_COLS//4, downsized_img[3*DOWNSIZE_ROWS//4, DOWNSIZE_COLS//4]))\n",
    "print(\"Average intensity at ({}, {}) is {:.2f}\".format(3*DOWNSIZE_ROWS//4, 3*DOWNSIZE_COLS//4, downsized_img[3*DOWNSIZE_ROWS//4, 3*DOWNSIZE_COLS//4]))"
   ]
  },
  {
   "cell_type": "code",
   "execution_count": 45,
   "id": "1aad26e9",
   "metadata": {},
   "outputs": [
    {
     "name": "stdout",
     "output_type": "stream",
     "text": [
      "Binary threshold: 134.68\n"
     ]
    }
   ],
   "source": [
    "threshold = np.median(downsized_img)\n",
    "print(\"Binary threshold: {:.2f}\".format(threshold))\n",
    "binary_downsized_img = np.where(downsized_img < threshold, 0, 255)\n",
    "downsized_img = np.round(downsized_img)"
   ]
  },
  {
   "cell_type": "code",
   "execution_count": 46,
   "id": "c9715726",
   "metadata": {},
   "outputs": [],
   "source": [
    "final_img_g = np.repeat(np.repeat(downsized_img, BLOCKS, axis=0), BLOCKS, axis=1).astype(img.dtype)\n",
    "final_img_b = np.repeat(np.repeat(binary_downsized_img, BLOCKS, axis=0), BLOCKS, axis=1).astype(img.dtype)\n",
    "cv2.imwrite(os.path.splitext(FILENAME)[0] + \"_g.jpg\", final_img_g)\n",
    "print(\"Wrote image {}\".format(os.path.splitext(FILENAME)[0] + \"_g.jpg\"))\n",
    "cv2.imwrite(os.path.splitext(FILENAME)[0] + \"_b.jpg\", final_img_b)\n",
    "print(\"Wrote image {}\".format(os.path.splitext(FILENAME)[0] + \"_b.jpg\"))"
   ]
  },
  {
   "cell_type": "code",
   "execution_count": 47,
   "id": "88f53419",
   "metadata": {},
   "outputs": [],
   "source": [
    "#cv2.imshow(\"image\", final_img_g)\n",
    "#cv2.waitKey(0)\n",
    "#cv2.destroyAllWindows()"
   ]
  },
  {
   "cell_type": "code",
   "execution_count": null,
   "id": "2beaa3fd",
   "metadata": {},
   "outputs": [],
   "source": []
  }
 ],
 "metadata": {
  "kernelspec": {
   "display_name": "Python 3 (ipykernel)",
   "language": "python",
   "name": "python3"
  },
  "language_info": {
   "codemirror_mode": {
    "name": "ipython",
    "version": 3
   },
   "file_extension": ".py",
   "mimetype": "text/x-python",
   "name": "python",
   "nbconvert_exporter": "python",
   "pygments_lexer": "ipython3",
   "version": "3.8.12"
  }
 },
 "nbformat": 4,
 "nbformat_minor": 5
}
