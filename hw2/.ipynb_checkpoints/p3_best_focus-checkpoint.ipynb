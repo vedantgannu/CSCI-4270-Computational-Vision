{
 "cells": [
  {
   "cell_type": "code",
   "execution_count": 10,
   "id": "5785382a",
   "metadata": {},
   "outputs": [],
   "source": [
    "import cv2\n",
    "import sys\n",
    "import os\n",
    "import numpy as np"
   ]
  },
  {
   "cell_type": "code",
   "execution_count": 34,
   "id": "2ad78c9e",
   "metadata": {},
   "outputs": [],
   "source": [
    "IMAGE_DIR = \"hw2_data_post/evergreen\"#sys.argv[1]\n",
    "IMAGE_NAMES = sorted([file for file in os.listdir(IMAGE_DIR) if os.path.splitext(file)[1].lower() == \".jpg\"])"
   ]
  },
  {
   "cell_type": "code",
   "execution_count": 53,
   "id": "925385fe",
   "metadata": {},
   "outputs": [
    {
     "name": "stdout",
     "output_type": "stream",
     "text": [
      "DSC_1696.JPG 283.9\n",
      "DSC_1697.JPG 312.7\n",
      "DSC_1698.JPG 602.4\n",
      "DSC_1699.JPG 2137.2\n",
      "DSC_1700.JPG 10224.8\n",
      "DSC_1701.JPG 18987.1\n",
      "Image DSC_1701.JPG is best focused.\n"
     ]
    }
   ],
   "source": [
    "info = []\n",
    "for im in IMAGE_NAMES:\n",
    "    img = cv2.imread(os.path.join(IMAGE_DIR, im), cv2.IMREAD_GRAYSCALE)\n",
    "    im_dx = cv2.Sobel(img, cv2.CV_32F, 1, 0)\n",
    "    im_dy = cv2.Sobel(img, cv2.CV_32F, 0, 1)\n",
    "    squared_gradient = np.average(im_dx**2 + im_dy**2, axis=None)\n",
    "    print(\"{}: {:.1f}\".format(im, squared_gradient))\n",
    "    info.append((im, squared_gradient))\n",
    "print(\"Image {} is best focused.\".format(sorted(info, key=lambda elem: elem[1])[-1][0]))"
   ]
  },
  {
   "cell_type": "code",
   "execution_count": null,
   "id": "baf0b629",
   "metadata": {},
   "outputs": [],
   "source": []
  },
  {
   "cell_type": "code",
   "execution_count": null,
   "id": "3602358b",
   "metadata": {},
   "outputs": [],
   "source": []
  },
  {
   "cell_type": "code",
   "execution_count": null,
   "id": "73556ef4",
   "metadata": {},
   "outputs": [],
   "source": []
  }
 ],
 "metadata": {
  "kernelspec": {
   "display_name": "Python 3 (ipykernel)",
   "language": "python",
   "name": "python3"
  },
  "language_info": {
   "codemirror_mode": {
    "name": "ipython",
    "version": 3
   },
   "file_extension": ".py",
   "mimetype": "text/x-python",
   "name": "python",
   "nbconvert_exporter": "python",
   "pygments_lexer": "ipython3",
   "version": "3.8.12"
  }
 },
 "nbformat": 4,
 "nbformat_minor": 5
}
