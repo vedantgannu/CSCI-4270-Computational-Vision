{
 "cells": [
  {
   "cell_type": "code",
   "execution_count": 44,
   "id": "7e58b572",
   "metadata": {},
   "outputs": [],
   "source": [
    "import numpy as np\n",
    "import matplotlib.pyplot as plt\n",
    "import cv2\n",
    "import os\n",
    "from sklearn.svm import LinearSVC\n",
    "from sklearn.utils.random import sample_without_replacement"
   ]
  },
  {
   "cell_type": "code",
   "execution_count": 54,
   "id": "6a3ea982",
   "metadata": {},
   "outputs": [
    {
     "name": "stdout",
     "output_type": "stream",
     "text": [
      "Getting descriptors of test\\grass\n",
      "Fetched all descriptors. Exporting to test\\test_grass.npz\n",
      "Getting descriptors of test\\ocean\n",
      "Fetched all descriptors. Exporting to test\\test_ocean.npz\n",
      "Getting descriptors of test\\redcarpet\n",
      "Fetched all descriptors. Exporting to test\\test_redcarpet.npz\n",
      "Getting descriptors of test\\road\n",
      "Fetched all descriptors. Exporting to test\\test_road.npz\n",
      "Getting descriptors of test\\wheatfield\n",
      "Fetched all descriptors. Exporting to test\\test_wheatfield.npz\n"
     ]
    }
   ],
   "source": [
    "root_folders = [\"test\"]#[\"train\", \"valid\"]\n",
    "\n",
    "for root_folder in root_folders:#[\"train\", \"valid\"]\n",
    "    image_folders = os.listdir(root_folder)\n",
    "    for image_folder in image_folders:#[\"grass\", \"ocean\", \"redcarpet\", \"road\", \"wheatfield\"]\n",
    "        descriptor_matrix = []\n",
    "        current_path = os.path.join(root_folder, image_folder)\n",
    "        print(\"Getting descriptors of\", current_path)\n",
    "        for image_file in os.listdir(os.path.join(root_folder, image_folder)):#Turn each image into a descriptor vector\n",
    "            img = cv2.imread(os.path.join(root_folder, image_folder, image_file))\n",
    "            #plt.imshow(cv2.cvtColor(img, cv2.COLOR_BGR2RGB))\n",
    "            ROWS, COLUMNS = img.shape[0:2]\n",
    "            num_subimage_blocks_width = 4\n",
    "            num_subimage_blocks_height = 4\n",
    "            subimage_block_width = int(COLUMNS / (num_subimage_blocks_width + 1))\n",
    "            subimage_block_height = int(ROWS / (num_subimage_blocks_height + 1))\n",
    "            #num = 1\n",
    "            result_vector = []\n",
    "            histogram_bins = 4\n",
    "            #plt.figure(figsize=(15,15))\n",
    "            for i in range(num_subimage_blocks_height):\n",
    "                for j in range(num_subimage_blocks_width):\n",
    "                    subimage_block = img[i*subimage_block_height: (i + 2)*subimage_block_height, j*subimage_block_width: (j + 2)*subimage_block_width,:]\n",
    "                    hist, _ = np.histogramdd(subimage_block.reshape(-1,3), (histogram_bins, histogram_bins, histogram_bins))\n",
    "                    result_vector += hist.flatten().tolist()\n",
    "                    #plt.subplot(int(str(num_subimage_blocks_height) + str(num_subimage_blocks_width) + str(num)))\n",
    "                    #plt.imshow(cv2.cvtColor(subimage_block, cv2.COLOR_BGR2RGB))\n",
    "                    #num+=1\n",
    "            descriptor_matrix.append(result_vector)\n",
    "        export_file_name = \"{}_{}.npz\".format(root_folder, image_folder)\n",
    "        export_file_path = os.path.join(root_folder, export_file_name)\n",
    "        print(\"Fetched all descriptors. Exporting to\", export_file_path)\n",
    "        np.savez_compressed(export_file_path, np.array(descriptor_matrix))"
   ]
  },
  {
   "cell_type": "code",
   "execution_count": 53,
   "id": "01a8f8cf",
   "metadata": {},
   "outputs": [
    {
     "name": "stdout",
     "output_type": "stream",
     "text": [
      "1024\n"
     ]
    }
   ],
   "source": [
    "data = np.load('train/train_grass.npz')\n",
    "print(len(data['arr_0'][0]))"
   ]
  },
  {
   "cell_type": "code",
   "execution_count": null,
   "id": "ec9fae26",
   "metadata": {},
   "outputs": [],
   "source": []
  },
  {
   "cell_type": "code",
   "execution_count": null,
   "id": "5feab290",
   "metadata": {},
   "outputs": [],
   "source": []
  }
 ],
 "metadata": {
  "kernelspec": {
   "display_name": "Python 3 (ipykernel)",
   "language": "python",
   "name": "python3"
  },
  "language_info": {
   "codemirror_mode": {
    "name": "ipython",
    "version": 3
   },
   "file_extension": ".py",
   "mimetype": "text/x-python",
   "name": "python",
   "nbconvert_exporter": "python",
   "pygments_lexer": "ipython3",
   "version": "3.8.12"
  }
 },
 "nbformat": 4,
 "nbformat_minor": 5
}
