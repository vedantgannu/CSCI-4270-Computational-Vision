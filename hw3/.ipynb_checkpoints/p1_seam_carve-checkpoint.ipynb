{
 "cells": [
  {
   "cell_type": "code",
   "execution_count": 2,
   "id": "dccb3a7e",
   "metadata": {},
   "outputs": [],
   "source": [
    "import cv2\n",
    "import numpy as np"
   ]
  },
  {
   "cell_type": "code",
   "execution_count": 2,
   "id": "fa247b78",
   "metadata": {},
   "outputs": [],
   "source": [
    "np.set_printoptions(suppress=True)\n",
    "img = cv2.imread(\"hw3_data/whistler.jpg\").astype(np.float32)\n",
    "img_with_seam = img.copy()"
   ]
  },
  {
   "cell_type": "code",
   "execution_count": 3,
   "id": "fcc6cda2",
   "metadata": {},
   "outputs": [],
   "source": [
    "img_energy = np.abs(cv2.Sobel(cv2.cvtColor(img, cv2.COLOR_BGR2GRAY), cv2.CV_32F, 1, 0)) + np.abs(cv2.Sobel(cv2.cvtColor(img, cv2.COLOR_BGR2GRAY), cv2.CV_32F, 0, 1))"
   ]
  },
  {
   "cell_type": "code",
   "execution_count": 4,
   "id": "4a9cc9e8",
   "metadata": {},
   "outputs": [
    {
     "data": {
      "text/plain": [
       "dtype('float32')"
      ]
     },
     "execution_count": 4,
     "metadata": {},
     "output_type": "execute_result"
    }
   ],
   "source": [
    "img_energy.dtype"
   ]
  },
  {
   "cell_type": "code",
   "execution_count": 76,
   "id": "e05235fb",
   "metadata": {},
   "outputs": [],
   "source": [
    "W_matrix = np.empty((img.shape[0], img.shape[1]))"
   ]
  },
  {
   "cell_type": "code",
   "execution_count": 77,
   "id": "b6924464",
   "metadata": {},
   "outputs": [],
   "source": [
    "W_matrix[:, [0,W_matrix.shape[1]-1]] = 10000000"
   ]
  },
  {
   "cell_type": "code",
   "execution_count": 78,
   "id": "ac1c18b0",
   "metadata": {},
   "outputs": [],
   "source": [
    "#Prefilling W_matrix top and bottom rows with default energy values from img_energy\n",
    "#W_matrix[0, 1:W_matrix.shape[1]-1] = img_energy[0, 1:img_energy.shape[1]-1]"
   ]
  },
  {
   "cell_type": "code",
   "execution_count": 79,
   "id": "daab34f8",
   "metadata": {},
   "outputs": [
    {
     "name": "stdout",
     "output_type": "stream",
     "text": [
      "[ 1 21 43 72  3 72 65 97 29 47 50 40 16 28 35 93 67 90 22 79]\n",
      "l [ 1 21 43 72  3 72 65 97 29 47 50 40 16 28 35 93 67 90]\n",
      "r [43 72  3 72 65 97 29 47 50 40 16 28 35 93 67 90 22 79]\n",
      "c [21 43 72  3 72 65 97 29 47 50 40 16 28 35 93 67 90 22]\n",
      "[ 1 21  3  3  3 65 29 29 29 40 16 16 16 28 35 67 22 22]\n"
     ]
    },
    {
     "name": "stderr",
     "output_type": "stream",
     "text": [
      "C:\\Users\\VEDANT~1\\AppData\\Local\\Temp/ipykernel_34692/2116264436.py:3: DeprecationWarning: `np.bool` is a deprecated alias for the builtin `bool`. To silence this warning, use `bool` by itself. Doing this will not modify any behavior and is safe. If you specifically wanted the numpy scalar type, use `np.bool_` here.\n",
      "Deprecated in NumPy 1.20; for more details and guidance: https://numpy.org/devdocs/release/1.20.0-notes.html#deprecations\n",
      "  is_max = np.zeros_like(a, dtype=np.bool)\n"
     ]
    }
   ],
   "source": [
    "a = np.random.randint( 0,100, 20 )\n",
    "print(a)\n",
    "is_max = np.zeros_like(a, dtype=np.bool)\n",
    "left = a[ :-2]\n",
    "print(\"l\", left)\n",
    "right = a[ 2: ]\n",
    "print(\"r\", right)\n",
    "center = a[ 1:-1 ]\n",
    "print(\"c\", center)\n",
    "print(np.min(np.vstack((left, right, center)), axis=0))\n",
    "#is_max[ 1:-1 ] = (center > right) * (center > left)\n",
    "#is_max[0] = a[0] > a[1]\n",
    "#is_max[-1] = a[-1] > a[-2]\n",
    "#print(is_max)\n",
    "#print(\"Indices of local maxima in a:\", np.where(is_max)[0])\n",
    "\n",
    "#Stack the views on top of each other and find min using np.min(.. axis = 1)"
   ]
  },
  {
   "cell_type": "code",
   "execution_count": 80,
   "id": "9f504dee",
   "metadata": {},
   "outputs": [
    {
     "data": {
      "text/plain": [
       "array([[10000000.,        0.,        0., ...,        0.,        0.,\n",
       "        10000000.],\n",
       "       [10000000.,        0.,        0., ...,        0.,        0.,\n",
       "        10000000.],\n",
       "       [10000000.,        0.,        0., ...,        0.,        0.,\n",
       "        10000000.],\n",
       "       ...,\n",
       "       [10000000.,        0.,        0., ...,        0.,        0.,\n",
       "        10000000.],\n",
       "       [10000000.,        0.,        0., ...,        0.,        0.,\n",
       "        10000000.],\n",
       "       [10000000.,        0.,        0., ...,        0.,        0.,\n",
       "        10000000.]])"
      ]
     },
     "execution_count": 80,
     "metadata": {},
     "output_type": "execute_result"
    }
   ],
   "source": [
    "W_matrix"
   ]
  },
  {
   "cell_type": "code",
   "execution_count": 81,
   "id": "c30e60b0",
   "metadata": {},
   "outputs": [],
   "source": [
    "def recursion(rowlocation, W_matrix, img_energy):\n",
    "    if rowlocation == 0:#Base Case for bottom up approach: Assigning top row\n",
    "        W_matrix[rowlocation, 1:W_matrix.shape[1]-1] = img_energy[rowlocation, 1:img_energy.shape[1]-1]\n",
    "        return W_matrix\n",
    "    else:\n",
    "        W_matrix_modified = recursion(rowlocation-1, W_matrix, img_energy)\n",
    "        above_row = W_matrix_modified[rowlocation-1]\n",
    "        left = above_row[:-2]#Get left view of row\n",
    "        right = above_row[2:]#Get right view of row\n",
    "        center = above_row[1:-1]#Get center view of row\n",
    "        min_energy_neighbors = np.min(np.vstack((left, right, center)), axis=0)\n",
    "        W_matrix_modified[rowlocation, 1:W_matrix_modified.shape[1]-1] = img_energy[rowlocation, 1:img_energy.shape[1]-1] + min_energy_neighbors\n",
    "        return W_matrix_modified\n",
    "\n",
    "W_matrix = recursion(W_matrix.shape[0]-1, W_matrix, img_energy)"
   ]
  },
  {
   "cell_type": "code",
   "execution_count": 82,
   "id": "5d70244a",
   "metadata": {},
   "outputs": [],
   "source": []
  },
  {
   "cell_type": "code",
   "execution_count": 83,
   "id": "c0074e18",
   "metadata": {},
   "outputs": [
    {
     "data": {
      "text/plain": [
       "array([[10000000.        ,       10.00000763,        1.99998474, ...,\n",
       "              14.55399323,        1.99999237, 10000000.        ],\n",
       "       [10000000.        ,       11.40196991,        5.99998474, ...,\n",
       "              28.50999069,       15.95597076, 10000000.        ],\n",
       "       [10000000.        ,       25.99996948,       22.80395889, ...,\n",
       "              21.95596313,       29.15196228, 10000000.        ],\n",
       "       ...,\n",
       "       [10000000.        ,     3611.78334427,     3618.23933792, ...,\n",
       "            5652.30968857,     5650.01388168, 10000000.        ],\n",
       "       [10000000.        ,     3639.78332901,     3627.3273201 , ...,\n",
       "            5659.94582748,     5689.90584946, 10000000.        ],\n",
       "       [10000000.        ,     3629.32735062,     3643.60742569, ...,\n",
       "            5664.96575546,     5677.94582748, 10000000.        ]])"
      ]
     },
     "execution_count": 83,
     "metadata": {},
     "output_type": "execute_result"
    }
   ],
   "source": [
    "W_matrix"
   ]
  },
  {
   "cell_type": "code",
   "execution_count": 96,
   "id": "ff4a9466",
   "metadata": {},
   "outputs": [
    {
     "data": {
      "text/plain": [
       "(270, 499, 3)"
      ]
     },
     "execution_count": 96,
     "metadata": {},
     "output_type": "execute_result"
    }
   ],
   "source": [
    "seam_coordinates = []\n",
    "starting_col = np.argmin(W_matrix[W_matrix.shape[0]-1])\n",
    "new_image = np.empty((img.shape[0], img.shape[1]-1, 3)) #Resized image will have one less column due to seam removal\n",
    "#Min Seam energy\n",
    "min_seam_energy = np.round(W_matrix[W_matrix.shape[0]-1, starting_col]/W_matrix.shape[0], decimals=2)\n",
    "seam_coordinates.append((W_matrix.shape[0]-1, starting_col))\n",
    "img_with_seam[-1, starting_col, :] = [0,0,250]\n",
    "image = []\n",
    "image.append(np.append(img[-1, 0:starting_col], img[-1, starting_col + 1:], axis=0))\n",
    "for i in range(W_matrix.shape[0]-2, -1, -1):\n",
    "    #Grab slice of the above row\n",
    "    above_row_slice = W_matrix[i, [starting_col - 1, starting_col, starting_col + 1]]\n",
    "    #Replace starting_col with above row's min val index\n",
    "    column_index = starting_col - 1 + np.argmin(above_row_slice)\n",
    "    seam_coordinates.append((i, column_index))\n",
    "    #Edit the image for red seam\n",
    "    img_with_seam[i, column_index, :] = [0,0,250]#Create the red seam\n",
    "    image.append(np.append(img[i, 0:column_index], img[i, column_index + 1:], axis=0))#Create the new image\n",
    "    starting_col = column_index\n",
    "image = np.array(image)[::-1, :, :]#Reverse order of the rows"
   ]
  },
  {
   "cell_type": "code",
   "execution_count": 97,
   "id": "ad9e3467",
   "metadata": {},
   "outputs": [
    {
     "data": {
      "text/plain": [
       "[(0, 86),\n",
       " (1, 87),\n",
       " (2, 86),\n",
       " (3, 86),\n",
       " (4, 85),\n",
       " (5, 85),\n",
       " (6, 84),\n",
       " (7, 85),\n",
       " (8, 85),\n",
       " (9, 85),\n",
       " (10, 86),\n",
       " (11, 87),\n",
       " (12, 87),\n",
       " (13, 88),\n",
       " (14, 87),\n",
       " (15, 88),\n",
       " (16, 89),\n",
       " (17, 90),\n",
       " (18, 89),\n",
       " (19, 88),\n",
       " (20, 87),\n",
       " (21, 86),\n",
       " (22, 85),\n",
       " (23, 84),\n",
       " (24, 83),\n",
       " (25, 84),\n",
       " (26, 85),\n",
       " (27, 85),\n",
       " (28, 85),\n",
       " (29, 85),\n",
       " (30, 86),\n",
       " (31, 85),\n",
       " (32, 84),\n",
       " (33, 83),\n",
       " (34, 82),\n",
       " (35, 81),\n",
       " (36, 81),\n",
       " (37, 81),\n",
       " (38, 81),\n",
       " (39, 81),\n",
       " (40, 81),\n",
       " (41, 82),\n",
       " (42, 83),\n",
       " (43, 83),\n",
       " (44, 83),\n",
       " (45, 84),\n",
       " (46, 83),\n",
       " (47, 84),\n",
       " (48, 83),\n",
       " (49, 83),\n",
       " (50, 84),\n",
       " (51, 83),\n",
       " (52, 82),\n",
       " (53, 82),\n",
       " (54, 83),\n",
       " (55, 83),\n",
       " (56, 82),\n",
       " (57, 82),\n",
       " (58, 81),\n",
       " (59, 80),\n",
       " (60, 79),\n",
       " (61, 80),\n",
       " (62, 80),\n",
       " (63, 79),\n",
       " (64, 80),\n",
       " (65, 81),\n",
       " (66, 80),\n",
       " (67, 80),\n",
       " (68, 81),\n",
       " (69, 81),\n",
       " (70, 81),\n",
       " (71, 81),\n",
       " (72, 80),\n",
       " (73, 80),\n",
       " (74, 79),\n",
       " (75, 79),\n",
       " (76, 79),\n",
       " (77, 79),\n",
       " (78, 78),\n",
       " (79, 77),\n",
       " (80, 76),\n",
       " (81, 75),\n",
       " (82, 76),\n",
       " (83, 76),\n",
       " (84, 75),\n",
       " (85, 76),\n",
       " (86, 76),\n",
       " (87, 77),\n",
       " (88, 77),\n",
       " (89, 76),\n",
       " (90, 76),\n",
       " (91, 75),\n",
       " (92, 75),\n",
       " (93, 75),\n",
       " (94, 75),\n",
       " (95, 76),\n",
       " (96, 77),\n",
       " (97, 77),\n",
       " (98, 76),\n",
       " (99, 75),\n",
       " (100, 74),\n",
       " (101, 73),\n",
       " (102, 73),\n",
       " (103, 72),\n",
       " (104, 73),\n",
       " (105, 72),\n",
       " (106, 71),\n",
       " (107, 70),\n",
       " (108, 71),\n",
       " (109, 71),\n",
       " (110, 71),\n",
       " (111, 70),\n",
       " (112, 70),\n",
       " (113, 70),\n",
       " (114, 70),\n",
       " (115, 70),\n",
       " (116, 71),\n",
       " (117, 71),\n",
       " (118, 71),\n",
       " (119, 72),\n",
       " (120, 72),\n",
       " (121, 71),\n",
       " (122, 71),\n",
       " (123, 71),\n",
       " (124, 71),\n",
       " (125, 72),\n",
       " (126, 72),\n",
       " (127, 73),\n",
       " (128, 73),\n",
       " (129, 72),\n",
       " (130, 71),\n",
       " (131, 70),\n",
       " (132, 70),\n",
       " (133, 70),\n",
       " (134, 70),\n",
       " (135, 71),\n",
       " (136, 70),\n",
       " (137, 71),\n",
       " (138, 71),\n",
       " (139, 72),\n",
       " (140, 73),\n",
       " (141, 74),\n",
       " (142, 75),\n",
       " (143, 76),\n",
       " (144, 76),\n",
       " (145, 77),\n",
       " (146, 78),\n",
       " (147, 79),\n",
       " (148, 80),\n",
       " (149, 81),\n",
       " (150, 82),\n",
       " (151, 83),\n",
       " (152, 84),\n",
       " (153, 84),\n",
       " (154, 85),\n",
       " (155, 85),\n",
       " (156, 86),\n",
       " (157, 87),\n",
       " (158, 86),\n",
       " (159, 87),\n",
       " (160, 87),\n",
       " (161, 87),\n",
       " (162, 87),\n",
       " (163, 86),\n",
       " (164, 87),\n",
       " (165, 87),\n",
       " (166, 87),\n",
       " (167, 86),\n",
       " (168, 85),\n",
       " (169, 84),\n",
       " (170, 83),\n",
       " (171, 84),\n",
       " (172, 85),\n",
       " (173, 85),\n",
       " (174, 85),\n",
       " (175, 84),\n",
       " (176, 83),\n",
       " (177, 82),\n",
       " (178, 81),\n",
       " (179, 80),\n",
       " (180, 79),\n",
       " (181, 78),\n",
       " (182, 77),\n",
       " (183, 76),\n",
       " (184, 75),\n",
       " (185, 76),\n",
       " (186, 75),\n",
       " (187, 74),\n",
       " (188, 73),\n",
       " (189, 73),\n",
       " (190, 72),\n",
       " (191, 71),\n",
       " (192, 70),\n",
       " (193, 71),\n",
       " (194, 72),\n",
       " (195, 73),\n",
       " (196, 73),\n",
       " (197, 73),\n",
       " (198, 74),\n",
       " (199, 75),\n",
       " (200, 75),\n",
       " (201, 76),\n",
       " (202, 77),\n",
       " (203, 78),\n",
       " (204, 79),\n",
       " (205, 80),\n",
       " (206, 81),\n",
       " (207, 82),\n",
       " (208, 83),\n",
       " (209, 84),\n",
       " (210, 85),\n",
       " (211, 86),\n",
       " (212, 87),\n",
       " (213, 88),\n",
       " (214, 89),\n",
       " (215, 90),\n",
       " (216, 91),\n",
       " (217, 92),\n",
       " (218, 93),\n",
       " (219, 92),\n",
       " (220, 92),\n",
       " (221, 93),\n",
       " (222, 93),\n",
       " (223, 94),\n",
       " (224, 95),\n",
       " (225, 96),\n",
       " (226, 97),\n",
       " (227, 96),\n",
       " (228, 95),\n",
       " (229, 94),\n",
       " (230, 93),\n",
       " (231, 92),\n",
       " (232, 92),\n",
       " (233, 91),\n",
       " (234, 91),\n",
       " (235, 91),\n",
       " (236, 91),\n",
       " (237, 90),\n",
       " (238, 90),\n",
       " (239, 91),\n",
       " (240, 91),\n",
       " (241, 90),\n",
       " (242, 89),\n",
       " (243, 88),\n",
       " (244, 89),\n",
       " (245, 90),\n",
       " (246, 89),\n",
       " (247, 88),\n",
       " (248, 87),\n",
       " (249, 87),\n",
       " (250, 87),\n",
       " (251, 86),\n",
       " (252, 86),\n",
       " (253, 86),\n",
       " (254, 85),\n",
       " (255, 84),\n",
       " (256, 83),\n",
       " (257, 82),\n",
       " (258, 82),\n",
       " (259, 81),\n",
       " (260, 81),\n",
       " (261, 82),\n",
       " (262, 81),\n",
       " (263, 80),\n",
       " (264, 81),\n",
       " (265, 82),\n",
       " (266, 81),\n",
       " (267, 81),\n",
       " (268, 80),\n",
       " (269, 81)]"
      ]
     },
     "execution_count": 97,
     "metadata": {},
     "output_type": "execute_result"
    }
   ],
   "source": [
    "seam_coordinates[::-1]"
   ]
  },
  {
   "cell_type": "code",
   "execution_count": null,
   "id": "3b02ab0f",
   "metadata": {},
   "outputs": [],
   "source": []
  },
  {
   "cell_type": "code",
   "execution_count": 63,
   "id": "e1800c9b",
   "metadata": {},
   "outputs": [
    {
     "data": {
      "text/plain": [
       "array([[[215., 200., 191.],\n",
       "        [219., 204., 195.],\n",
       "        [223., 208., 199.],\n",
       "        ...,\n",
       "        [214., 196., 185.],\n",
       "        [213., 195., 184.],\n",
       "        [219., 201., 190.]]], dtype=float32)"
      ]
     },
     "execution_count": 63,
     "metadata": {},
     "output_type": "execute_result"
    }
   ],
   "source": [
    "bottom_col_index = np.argmin(W_matrix[W_matrix.shape[0]-1])\n",
    "image = []\n",
    "image.append(np.append(img[-1, 0:bottom_col_index], img[-1, bottom_col_index + 1:], axis=0))"
   ]
  },
  {
   "cell_type": "code",
   "execution_count": 6,
   "id": "c067c633",
   "metadata": {
    "scrolled": true
   },
   "outputs": [],
   "source": [
    "#Horizontal seam computation"
   ]
  },
  {
   "cell_type": "code",
   "execution_count": 7,
   "id": "ab020e85",
   "metadata": {},
   "outputs": [],
   "source": [
    "np.set_printoptions(suppress=True)\n",
    "img = cv2.imread(\"hw3_data/autumn.jpg\").astype(np.float32)\n",
    "img_with_seam = img.copy()"
   ]
  },
  {
   "cell_type": "code",
   "execution_count": 4,
   "id": "0879623c",
   "metadata": {},
   "outputs": [],
   "source": [
    "W_matrix = np.empty((img.shape[0], img.shape[1]))"
   ]
  },
  {
   "cell_type": "code",
   "execution_count": 5,
   "id": "f1aab920",
   "metadata": {},
   "outputs": [],
   "source": []
  },
  {
   "cell_type": "code",
   "execution_count": null,
   "id": "e030e5db",
   "metadata": {},
   "outputs": [],
   "source": []
  },
  {
   "cell_type": "code",
   "execution_count": null,
   "id": "7dd3d576",
   "metadata": {},
   "outputs": [],
   "source": []
  },
  {
   "cell_type": "code",
   "execution_count": null,
   "id": "a73677bf",
   "metadata": {},
   "outputs": [],
   "source": [
    "cv2.imshow(\"image\", img_with_seam.astype(\"uint8\"))\n",
    "cv2.waitKey(0)\n",
    "cv2.destroyAllWindows()\n",
    "cv2.imshow(\"image\", image.astype(\"uint8\"))\n",
    "cv2.waitKey(0)\n",
    "cv2.destroyAllWindows()"
   ]
  }
 ],
 "metadata": {
  "kernelspec": {
   "display_name": "Python 3 (ipykernel)",
   "language": "python",
   "name": "python3"
  },
  "language_info": {
   "codemirror_mode": {
    "name": "ipython",
    "version": 3
   },
   "file_extension": ".py",
   "mimetype": "text/x-python",
   "name": "python",
   "nbconvert_exporter": "python",
   "pygments_lexer": "ipython3",
   "version": "3.8.12"
  }
 },
 "nbformat": 4,
 "nbformat_minor": 5
}
