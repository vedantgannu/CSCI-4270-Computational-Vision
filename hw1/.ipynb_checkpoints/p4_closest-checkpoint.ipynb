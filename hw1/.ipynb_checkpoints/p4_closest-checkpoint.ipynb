{
 "cells": [
  {
   "cell_type": "code",
   "execution_count": 1,
   "id": "c3492ac3",
   "metadata": {},
   "outputs": [],
   "source": [
    "import numpy as np"
   ]
  },
  {
   "cell_type": "code",
   "execution_count": 2,
   "id": "18df2d47",
   "metadata": {},
   "outputs": [],
   "source": [
    "import cv2"
   ]
  },
  {
   "cell_type": "code",
   "execution_count": 3,
   "id": "9a5f50c3",
   "metadata": {},
   "outputs": [],
   "source": [
    "import os"
   ]
  },
  {
   "cell_type": "code",
   "execution_count": 4,
   "id": "d801292a",
   "metadata": {},
   "outputs": [],
   "source": [
    "import sys"
   ]
  },
  {
   "cell_type": "code",
   "execution_count": null,
   "id": "a687f067",
   "metadata": {},
   "outputs": [],
   "source": []
  },
  {
   "cell_type": "code",
   "execution_count": 5,
   "id": "a652a957",
   "metadata": {},
   "outputs": [],
   "source": [
    "IMG_DIR = sys.argv[1]#\"data_to_post/four_images\"\n",
    "N = int(sys.argv[2])#4#Number of regions in row and column dimensions\n",
    "IMG_NAMES = sorted([file for file in os.listdir(IMG_DIR) if os.path.splitext(file)[1] == '.jpg'])\n",
    "IMG_DATA = []"
   ]
  },
  {
   "cell_type": "code",
   "execution_count": null,
   "id": "abeb2d69",
   "metadata": {},
   "outputs": [],
   "source": []
  },
  {
   "cell_type": "code",
   "execution_count": 7,
   "id": "7f4e7f2d",
   "metadata": {},
   "outputs": [
    {
     "name": "stdout",
     "output_type": "stream",
     "text": [
      "Nearest Distances\n",
      "First region: 20.281 21.207 22.185\n",
      "Last region: 6.762 6.497 6.520\n"
     ]
    }
   ],
   "source": [
    "for file in IMG_NAMES:\n",
    "#file = \"data_to_post/four_images/central_park.jpg\"\n",
    "    img = cv2.imread(os.path.join(IMG_DIR, file))\n",
    "    scaleFactorRow = img.shape[0]/N\n",
    "    scaleFactorCol = img.shape[1]/N\n",
    "    downsized_img = np.zeros((N, N, 3))\n",
    "    for i in range(N):\n",
    "        for j in range(N):\n",
    "            downsized_img[i,j] = np.mean((img[round(i*scaleFactorRow):round((i+1)*scaleFactorRow), round(j*scaleFactorCol):round((j+1)*scaleFactorCol)]).reshape((-1,3)), axis=0)\n",
    "    IMG_DATA.append((file, downsized_img[:,:,::-1]))#np.linalg.norm(downsized_img.flatten()) * 100\n",
    "print(\"Nearest distances\")\n",
    "first_image_normalized = IMG_DATA[0][1] / np.linalg.norm(IMG_DATA[0][1].flatten()) * 100\n",
    "print(\"First region: {:.3f} {:.3f} {:.3f}\".format(first_image_normalized[0,0,0], first_image_normalized[0,0,1], first_image_normalized[0,0,2]))\n",
    "print(\"Last region: {:.3f} {:.3f} {:.3f}\".format(first_image_normalized[N-1,N-1,0], first_image_normalized[N-1,N-1,1], first_image_normalized[N-1,N-1,2]))"
   ]
  },
  {
   "cell_type": "code",
   "execution_count": 8,
   "id": "0a2fda5a",
   "metadata": {},
   "outputs": [
    {
     "name": "stdout",
     "output_type": "stream",
     "text": [
      "central_park.jpg to skyline.jpg: 21.65\n",
      "hop.jpg to times_square.jpg: 24.17\n",
      "skyline.jpg to central_park.jpg: 21.65\n",
      "times_square.jpg to hop.jpg: 24.17\n"
     ]
    }
   ],
   "source": [
    "for file, downsized_img in IMG_DATA:\n",
    "    descriptor_vector = downsized_img.flatten() / np.linalg.norm(downsized_img.flatten()) * 100\n",
    "    pairs = []\n",
    "    for file1, downsized_img1 in IMG_DATA:\n",
    "        if file == file1:\n",
    "            continue\n",
    "        else:\n",
    "            descriptor_vector1 = downsized_img1.flatten() / np.linalg.norm(downsized_img1.flatten()) * 100\n",
    "            pairs.append((file1, np.linalg.norm(descriptor_vector - descriptor_vector1)))\n",
    "    #print(pairs)\n",
    "    \n",
    "    most_similar = sorted(pairs, key=lambda x : x[1])[0]\n",
    "    print(\"{} to {}: {:.2f}\".format(file, most_similar[0], most_similar[1]))"
   ]
  },
  {
   "cell_type": "code",
   "execution_count": null,
   "id": "eb9b4a98",
   "metadata": {},
   "outputs": [],
   "source": []
  },
  {
   "cell_type": "code",
   "execution_count": null,
   "id": "8eb07213",
   "metadata": {},
   "outputs": [],
   "source": []
  }
 ],
 "metadata": {
  "kernelspec": {
   "display_name": "Python 3 (ipykernel)",
   "language": "python",
   "name": "python3"
  },
  "language_info": {
   "codemirror_mode": {
    "name": "ipython",
    "version": 3
   },
   "file_extension": ".py",
   "mimetype": "text/x-python",
   "name": "python",
   "nbconvert_exporter": "python",
   "pygments_lexer": "ipython3",
   "version": "3.8.12"
  }
 },
 "nbformat": 4,
 "nbformat_minor": 5
}
