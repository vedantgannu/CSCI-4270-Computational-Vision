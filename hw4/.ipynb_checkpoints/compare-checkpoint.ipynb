{
 "cells": [
  {
   "cell_type": "code",
   "execution_count": 1,
   "id": "0ac512d3",
   "metadata": {},
   "outputs": [],
   "source": [
    "import cv2\n",
    "import numpy as np\n",
    "import sys\n",
    "import os\n",
    "from matplotlib import pyplot as plt"
   ]
  },
  {
   "cell_type": "code",
   "execution_count": 5,
   "id": "b02238f2",
   "metadata": {},
   "outputs": [],
   "source": [
    "paths = {\n",
    "            \"office\": {\n",
    "                           1 : \"hw4_data\\office\\IMG2536.JPG\"\n",
    "                          ,2 : \"hw4_data\\office\\IMG2537.JPG\"\n",
    "                          ,3 : \"hw4_data\\office\\IMG2538.JPG\"\n",
    "                      }\n",
    "            ,\"drink-machine\" : {\n",
    "                                     1 : \"hw4_data\\drink-machine\\image1.JPG\"\n",
    "                                    ,2 : \"hw4_data\\drink-machine\\image2.JPG\"\n",
    "                                    ,3 : \"hw4_data\\drink-machine\\image3.JPG\"\n",
    "                                }\n",
    "        }\n",
    "\n",
    "\n",
    "path1 = paths[\"office\"][1]\n",
    "path2 = paths[\"office\"][2]#\"hw4_data\\office\\IMG2538.JPG\"\n",
    "orig_im1 = cv2.imread(path1)\n",
    "orig_im2 = cv2.imread(path2)\n",
    "im1 = cv2.cvtColor(orig_im1, cv2.COLOR_BGR2GRAY)\n",
    "im2 = cv2.cvtColor(orig_im2, cv2.COLOR_BGR2GRAY)"
   ]
  },
  {
   "cell_type": "code",
   "execution_count": 6,
   "id": "03b3758a",
   "metadata": {},
   "outputs": [
    {
     "name": "stdout",
     "output_type": "stream",
     "text": [
      "Number of matched keypoints using Ratio Test: 258\n",
      "Number of matched keypoints using Symmetric Matching Test: 307\n",
      "Percentage of matched keypoints using Ratio Test: 0.42225859247135844\n",
      "Percentage of matched keypoints using Symmetric Matching Test: 0.502454991816694\n"
     ]
    }
   ],
   "source": [
    "sift_alg = cv2.SIFT_create()\n",
    "sift_kp1, sift_descriptors1 = sift_alg.detectAndCompute(im1.astype(\"uint8\"),None)\n",
    "sift_kp2, sift_descriptors2 = sift_alg.detectAndCompute(im2.astype(\"uint8\"),None)\n",
    "\n",
    "#Ratio Test\n",
    "bf = cv2.BFMatcher()\n",
    "matches = bf.knnMatch(sift_descriptors1,sift_descriptors2,k=2)\n",
    "\n",
    "good = []\n",
    "for m,n in matches:\n",
    "    if m.distance < 0.80*n.distance:\n",
    "        good.append([m])\n",
    "\n",
    "#Symmetric Matching\n",
    "sym_match_im1_pts = []\n",
    "sym_match_im2_pts = []\n",
    "\n",
    "for i in range(len(sift_descriptors1)):\n",
    "    #Get norm distances from image 1 descriptor 'i' to all descriptors in image 2\n",
    "    norm_distances = np.linalg.norm(sift_descriptors2 - sift_descriptors1[i], axis=1)\n",
    "    min_j_index = np.argmin(norm_distances, axis=0)\n",
    "    norm_distances1 = np.linalg.norm(sift_descriptors1 - sift_descriptors2[min_j_index], axis=1)\n",
    "    min_i_index = np.argmin(norm_distances1, axis=0)\n",
    "    if i == min_i_index:\n",
    "        sym_match_im1_pts.append(sift_kp1[i].pt)\n",
    "        sym_match_im2_pts.append(sift_kp2[min_j_index].pt)\n",
    "\n",
    "print(\"Number of matched keypoints using Ratio Test:\", len(good))\n",
    "print(\"Number of matched keypoints using Symmetric Matching Test:\", len(sym_match_im1_pts))\n",
    "print(\"Percentage of matched keypoints using Ratio Test:\", len(good)/min(len(sift_kp1), len(sift_kp2)))\n",
    "print(\"Percentage of matched keypoints using Symmetric Matching Test:\", len(sym_match_im1_pts)/min(len(sift_kp1), len(sift_kp2)))\n",
    "\n",
    "\n"
   ]
  },
  {
   "cell_type": "code",
   "execution_count": 7,
   "id": "5b222da2",
   "metadata": {},
   "outputs": [
    {
     "name": "stdout",
     "output_type": "stream",
     "text": [
      "Number of inlier matched keypoints after Ratio Test: 233\n",
      "Percentage of inlier matched keypoints after Ratio Test: 0.9031007751937985\n",
      "Number of inlier matched keypoints after Symmetric Matching: 271\n",
      "Percentage of inlier matched keypoints after Symmetric Matching: 0.8827361563517915\n"
     ]
    }
   ],
   "source": [
    "inlier_im1_pts = [sift_kp1[match_ls[0].queryIdx].pt for match_ls in good]\n",
    "inlier_im2_pts = [sift_kp2[match_ls[0].trainIdx].pt for match_ls in good]\n",
    "fundamental_matrix, fundamental_mask = cv2.findFundamentalMat(np.array(inlier_im1_pts), np.array(inlier_im2_pts), cv2.FM_RANSAC, 5, 0.95, 500)\n",
    "inlier_fundamental_matches = np.array(good)[fundamental_mask.astype(bool)]\n",
    "print(\"Number of inlier matched keypoints after Ratio Test:\", len(inlier_fundamental_matches))\n",
    "print(\"Percentage of inlier matched keypoints after Ratio Test:\", len(inlier_fundamental_matches)/len(good))\n",
    "\n",
    "inliers_symmetric = []\n",
    "for i in range(len(sym_match_im1_pts)):\n",
    "    epilpolar_line_params = cv2.computeCorrespondEpilines(np.array(sym_match_im1_pts)[i].reshape(1,2), 1, fundamental_matrix).reshape(-1,3)\n",
    "    distance = epilpolar_line_params @ np.array(list(sym_match_im2_pts[i]) + [1]).reshape(3, -1)\n",
    "    if distance / np.linalg.norm(epilpolar_line_params[0][0:2]) <= 5:\n",
    "        inliers_symmetric.append([sym_match_im1_pts[i], sym_match_im2_pts[i]])\n",
    "print(\"Number of inlier matched keypoints after Symmetric Matching:\", len(inliers_symmetric))\n",
    "print(\"Percentage of inlier matched keypoints after Symmetric Matching:\", len(inliers_symmetric)/len(sym_match_im1_pts))\n"
   ]
  },
  {
   "cell_type": "code",
   "execution_count": null,
   "id": "c8e16e53",
   "metadata": {},
   "outputs": [],
   "source": []
  },
  {
   "cell_type": "code",
   "execution_count": null,
   "id": "ac3b738d",
   "metadata": {},
   "outputs": [],
   "source": []
  },
  {
   "cell_type": "code",
   "execution_count": null,
   "id": "c3f27de7",
   "metadata": {},
   "outputs": [],
   "source": []
  },
  {
   "cell_type": "code",
   "execution_count": null,
   "id": "dd7173f7",
   "metadata": {},
   "outputs": [],
   "source": []
  },
  {
   "cell_type": "code",
   "execution_count": null,
   "id": "ac1c5128",
   "metadata": {},
   "outputs": [],
   "source": []
  }
 ],
 "metadata": {
  "kernelspec": {
   "display_name": "Python 3 (ipykernel)",
   "language": "python",
   "name": "python3"
  },
  "language_info": {
   "codemirror_mode": {
    "name": "ipython",
    "version": 3
   },
   "file_extension": ".py",
   "mimetype": "text/x-python",
   "name": "python",
   "nbconvert_exporter": "python",
   "pygments_lexer": "ipython3",
   "version": "3.8.12"
  }
 },
 "nbformat": 4,
 "nbformat_minor": 5
}
