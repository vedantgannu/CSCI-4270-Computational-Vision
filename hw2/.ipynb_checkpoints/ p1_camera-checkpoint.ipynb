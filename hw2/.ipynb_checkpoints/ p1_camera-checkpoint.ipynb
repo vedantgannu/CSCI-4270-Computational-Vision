{
 "cells": [
  {
   "cell_type": "code",
   "execution_count": 12,
   "id": "586eca8c",
   "metadata": {},
   "outputs": [],
   "source": [
    "import numpy as np\n",
    "import sys\n",
    "import math"
   ]
  },
  {
   "cell_type": "code",
   "execution_count": 23,
   "id": "fb4f38ea",
   "metadata": {},
   "outputs": [],
   "source": [
    "#python p1_camera.py params.txt points.txt\n",
    "np.set_printoptions(precision=1, suppress=True)\n",
    "#np.set_printoptions(suppress=True)\n",
    "PARAMS_FILE = \"hw2_data_post/params_p1_v3.txt\"#sys.argv[1]\n",
    "POINTS_FILE = \"hw2_data_post/points_p1_v3.txt\"#sys.argv[2]"
   ]
  },
  {
   "cell_type": "code",
   "execution_count": 24,
   "id": "46fc9854",
   "metadata": {},
   "outputs": [],
   "source": [
    "with open(PARAMS_FILE, mode='r') as params_fd:\n",
    "    rotation_angles = np.array(params_fd.readline().strip(\"\\n\").split(), dtype='f')\n",
    "    translation_vector = np.array(params_fd.readline().strip(\"\\n\").split(), dtype='f').reshape((3, 1))\n",
    "    focal_length, pixel_d, vc, uc = np.array(params_fd.readline().strip(\"\\n\").split(), dtype='f')"
   ]
  },
  {
   "cell_type": "code",
   "execution_count": 25,
   "id": "1cd2a0e4",
   "metadata": {},
   "outputs": [],
   "source": [
    "#translation_vector, rotation_angles"
   ]
  },
  {
   "cell_type": "code",
   "execution_count": 26,
   "id": "73c00ea5",
   "metadata": {},
   "outputs": [],
   "source": [
    "rx_matrix = np.eye(3)\n",
    "rx_matrix[1:3, 1:3] = np.array([[np.cos(rotation_angles[0] * (math.pi/180)), -1*np.sin(rotation_angles[0] * (math.pi/180))], [np.sin(rotation_angles[0] * (math.pi/180)), np.cos(rotation_angles[0] * (math.pi/180))]])\n",
    "rz_matrix = np.eye(3)\n",
    "rz_matrix[0:2, 0:2] = np.array([[np.cos(rotation_angles[2] * (math.pi/180)), -1*np.sin(rotation_angles[2] * (math.pi/180))], [np.sin(rotation_angles[2] * (math.pi/180)), np.cos(rotation_angles[2] * (math.pi/180))]])\n",
    "ry_matrix = np.array([[np.cos(rotation_angles[1] * (math.pi/180)), 0, np.sin(rotation_angles[1] * (math.pi/180))], [0, 1, 0], [-1*np.sin(rotation_angles[1] * (math.pi/180)), 0, np.cos(rotation_angles[1] * (math.pi/180))]])\n",
    "rotation_matrix = np.dot(np.dot(rx_matrix, ry_matrix), rz_matrix)"
   ]
  },
  {
   "cell_type": "code",
   "execution_count": 35,
   "id": "4690315f",
   "metadata": {},
   "outputs": [],
   "source": [
    "R_matrix = np.concatenate((rotation_matrix.T, np.dot(-1*rotation_matrix.T, translation_vector)), axis=1)"
   ]
  },
  {
   "cell_type": "code",
   "execution_count": 44,
   "id": "a91d70b0",
   "metadata": {},
   "outputs": [
    {
     "name": "stdout",
     "output_type": "stream",
     "text": [
      "0.6, -0.8, 0.2\n",
      "0.7, 0.7, 0.3\n",
      "-0.3, -0.0, 1.0\n"
     ]
    }
   ],
   "source": [
    "for i in range(len(rotation_matrix)):\n",
    "    print(*np.around(rotation_matrix[i], decimals=1), sep=\", \")"
   ]
  },
  {
   "cell_type": "code",
   "execution_count": 37,
   "id": "c4708871",
   "metadata": {},
   "outputs": [],
   "source": [
    "sx, sy = focal_length/(pixel_d*0.001), focal_length/(pixel_d*0.001)\n",
    "K_matrix =  np.array([[sx, 0, uc], \n",
    "                      [0, sy, vc],\n",
    "                      [0, 0, 1]])"
   ]
  },
  {
   "cell_type": "code",
   "execution_count": 43,
   "id": "9ed2de72",
   "metadata": {},
   "outputs": [
    {
     "name": "stdout",
     "output_type": "stream",
     "text": [
      "1000.0, 0.0, 1200.0\n",
      "0.0, 1000.0, 800.0\n",
      "0.0, 0.0, 1.0\n"
     ]
    }
   ],
   "source": [
    "for i in range(len(K_matrix)):\n",
    "    print(*np.around(K_matrix[i], decimals=1), sep=\", \")"
   ]
  },
  {
   "cell_type": "code",
   "execution_count": 42,
   "id": "f15dcd65",
   "metadata": {},
   "outputs": [
    {
     "name": "stdout",
     "output_type": "stream",
     "text": [
      "841.4, 1016.9, 835.4, -60772.1\n",
      "-615.5, 859.2, 723.1, -19050.6\n",
      "0.2, 0.3, 1.0, -51.4\n"
     ]
    }
   ],
   "source": [
    "M_matrix = np.dot(K_matrix, R_matrix)\n",
    "for i in range(len(M_matrix)):\n",
    "    print(*np.around(M_matrix[i], decimals=1), sep=\", \")"
   ]
  },
  {
   "cell_type": "code",
   "execution_count": null,
   "id": "bb8f4f00",
   "metadata": {},
   "outputs": [],
   "source": []
  },
  {
   "cell_type": "code",
   "execution_count": 48,
   "id": "ddaf5316",
   "metadata": {},
   "outputs": [
    {
     "name": "stdout",
     "output_type": "stream",
     "text": [
      "0: 100.0 15.0 90.0 => -47.5 2054.1 outside\n",
      "1: -100.0 800.0 1500.0 => 1161.7 1230.3 inside\n",
      "2: 10.0 -500.0 -500.0 => 1250.7 1499.1 inside\n",
      "3: -30.0 10.0 20.0 => -641.4 1688.2 outside\n",
      "visible: 0 1\n",
      "hidden: 2 3\n"
     ]
    }
   ],
   "source": [
    "with open(POINTS_FILE, mode='r') as points:\n",
    "    visible = \"visible:\"\n",
    "    hidden = \"hidden:\"\n",
    "    for i, point in enumerate(points):\n",
    "        point = point.strip(\"\\n\").split()\n",
    "        homogeneous_points = np.array(point + [1], dtype='f').reshape((4,1))\n",
    "        image_coords = np.dot(M_matrix, homogeneous_points).flatten()\n",
    "        #Z coordinate is still preserved\n",
    "        if image_coords[2] > 0:\n",
    "            visible += \" {}\".format(i)\n",
    "        else:\n",
    "            hidden += \" {}\".format(i)\n",
    "        affine_coordinates = np.around((image_coords / image_coords[2])[0:2][::-1], decimals=1).tolist()\n",
    "        #Bounding box: 4000 rows, 6000 columns\n",
    "        if affine_coordinates[0] >= 0 and affine_coordinates[0] < 4000 and affine_coordinates[1] >= 0 and affine_coordinates[1] < 6000:\n",
    "            inside = 'inside'\n",
    "        else:\n",
    "            inside = 'outside'\n",
    "        print(\"{}: {} => {} {}\".format(i, \" \".join(map(str, map(float, point))), \" \".join(map(str, affine_coordinates)), inside))\n",
    "    print(visible + \"\\n\" + hidden)"
   ]
  },
  {
   "cell_type": "code",
   "execution_count": null,
   "id": "7fa9cceb",
   "metadata": {},
   "outputs": [],
   "source": []
  }
 ],
 "metadata": {
  "kernelspec": {
   "display_name": "Python 3 (ipykernel)",
   "language": "python",
   "name": "python3"
  },
  "language_info": {
   "codemirror_mode": {
    "name": "ipython",
    "version": 3
   },
   "file_extension": ".py",
   "mimetype": "text/x-python",
   "name": "python",
   "nbconvert_exporter": "python",
   "pygments_lexer": "ipython3",
   "version": "3.8.12"
  }
 },
 "nbformat": 4,
 "nbformat_minor": 5
}
