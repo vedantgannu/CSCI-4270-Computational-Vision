{
 "cells": [
  {
   "cell_type": "code",
   "execution_count": 2,
   "id": "c6cc1c09",
   "metadata": {},
   "outputs": [],
   "source": [
    "import numpy as np\n",
    "import sys"
   ]
  },
  {
   "cell_type": "code",
   "execution_count": 82,
   "id": "6b44b0bb",
   "metadata": {},
   "outputs": [],
   "source": [
    "np.set_printoptions(precision=3)\n",
    "POINTS = \"hw2_data_post/p2_pts1_in.txt\"#sys.argv[1]\n",
    "SAMPLES = 25#int(sys.argv[2])\n",
    "TAU = 2.5#int(sys.argv[3])\n",
    "SEED = 999#None\n",
    "#if len(sys.argv) == 5:\n",
    "#    SEED = int(sys.argv[4])"
   ]
  },
  {
   "cell_type": "code",
   "execution_count": 87,
   "id": "83ec3626",
   "metadata": {},
   "outputs": [
    {
     "name": "stdout",
     "output_type": "stream",
     "text": [
      "[-23.906  15.17 ]\n",
      "[-22.43    3.459]\n",
      "[-23.774  14.674]\n",
      "[-21.569  26.064]\n",
      "[-13.567   9.954]\n",
      "[-21.361  13.961]\n",
      "[-18.074  12.428]\n",
      "[-20.916  13.89 ]\n",
      "[-16.721   9.1  ]\n",
      "[-23.16   15.963]\n",
      "[-19.792  14.082]\n",
      "[-15.261  16.567]\n",
      "[-15.946  12.088]\n",
      "[-21.628  14.955]\n",
      "[-13.02   -1.423]\n",
      "[-26.746  19.437]\n",
      "[-20.319  12.184]\n",
      "[-24.879  16.68 ]\n",
      "[-11.927   8.417]\n",
      "[-23.672  16.921]\n",
      "[-26.787   3.624]\n",
      "[-28.315  12.053]\n",
      "[-24.873  23.17 ]\n",
      "[-25.065  17.436]\n",
      "[-11.707  10.204]\n",
      "[-16.264  13.082]\n",
      "[-21.107  28.505]\n",
      "[-25.124  17.251]\n",
      "[-21.298  29.134]\n",
      "[-19.234  14.686]\n"
     ]
    }
   ],
   "source": [
    "points_matrix = None\n",
    "#Read points into matrix\n",
    "list1 = []\n",
    "with open(POINTS, mode=\"r\") as points_fd:\n",
    "    for point in points_fd:\n",
    "        print(np.array(point.strip(\"\\n\").split(), dtype='f'))\n",
    "        list1.append(np.array(point.strip(\"\\n\").split(), dtype='f'))\n",
    "    points_matrix = np.array(list1)"
   ]
  },
  {
   "cell_type": "code",
   "execution_count": 88,
   "id": "e0ef6492",
   "metadata": {},
   "outputs": [
    {
     "data": {
      "text/plain": [
       "array([[-23.906,  15.17 ],\n",
       "       [-22.43 ,   3.459],\n",
       "       [-23.774,  14.674],\n",
       "       [-21.569,  26.064],\n",
       "       [-13.567,   9.954],\n",
       "       [-21.361,  13.961],\n",
       "       [-18.074,  12.428],\n",
       "       [-20.916,  13.89 ],\n",
       "       [-16.721,   9.1  ],\n",
       "       [-23.16 ,  15.963],\n",
       "       [-19.792,  14.082],\n",
       "       [-15.261,  16.567],\n",
       "       [-15.946,  12.088],\n",
       "       [-21.628,  14.955],\n",
       "       [-13.02 ,  -1.423],\n",
       "       [-26.746,  19.437],\n",
       "       [-20.319,  12.184],\n",
       "       [-24.879,  16.68 ],\n",
       "       [-11.927,   8.417],\n",
       "       [-23.672,  16.921],\n",
       "       [-26.787,   3.624],\n",
       "       [-28.315,  12.053],\n",
       "       [-24.873,  23.17 ],\n",
       "       [-25.065,  17.436],\n",
       "       [-11.707,  10.204],\n",
       "       [-16.264,  13.082],\n",
       "       [-21.107,  28.505],\n",
       "       [-25.124,  17.251],\n",
       "       [-21.298,  29.134],\n",
       "       [-19.234,  14.686]], dtype=float32)"
      ]
     },
     "execution_count": 88,
     "metadata": {},
     "output_type": "execute_result"
    }
   ],
   "source": [
    "points_matrix"
   ]
  },
  {
   "cell_type": "code",
   "execution_count": 91,
   "id": "fd8823a8",
   "metadata": {},
   "outputs": [
    {
     "name": "stdout",
     "output_type": "stream",
     "text": [
      "Sample 0:\n",
      "indices (0,28)\n",
      "line (-0.983,0.184,-26.286)\n",
      "inliers 13\n",
      "\n",
      "Sample 3:\n",
      "indices (27,25)\n",
      "line (0.426,0.905,-4.913)\n",
      "inliers 19\n",
      "\n",
      "Sample 10:\n",
      "indices (23,4)\n",
      "line (0.545,0.838,-0.944)\n",
      "inliers 21\n",
      "\n",
      "avg inlier dist 0.7392619252204895\n",
      "avg outlier dist 8.91988468170166\n"
     ]
    }
   ],
   "source": [
    "np.random.seed(SEED)\n",
    "#Using implicit definition of a line: 0 = ax + by + c\n",
    "kmax = 0\n",
    "best_inlier_distances = []\n",
    "best_outlier_distances = []\n",
    "for i in range(SAMPLES):\n",
    "    index1, index2 = np.random.randint(0, len(points_matrix), 2)\n",
    "    if index1 == index2:\n",
    "        continue\n",
    "    #(y1-y2)\n",
    "    a= points_matrix[index1][1] - points_matrix[index2][1]\n",
    "    #(x2-x1)\n",
    "    b= points_matrix[index2][0] - points_matrix[index1][0]\n",
    "    #c=#(y2(x1-x2) + x2(y2-y1))\n",
    "    intercept = points_matrix[index2][1]*points_matrix[index1][0] - points_matrix[index2][0]*points_matrix[index1][1] #- points_matrix[index2][1]*points_matrix[index1][0]\n",
    "    a1 = a / np.sqrt(np.sum(np.square([a, b])))\n",
    "    b1 = b / np.sqrt(np.sum(np.square([a, b])))\n",
    "    intercept1 = intercept / np.sqrt(np.sum(np.square([a, b])))\n",
    "    if intercept1 > 0:\n",
    "        a1 *= -1\n",
    "        b1 *= -1\n",
    "        intercept1 *= -1\n",
    "    inliers = []\n",
    "    inlier_distances = []\n",
    "    outlier_distances = []\n",
    "    for index in np.arange(len(points_matrix)):#set(np.arange(len(points_matrix))) - set([index1, index2]):\n",
    "        if np.abs(a1*points_matrix[index][0] + b1*points_matrix[index][1] + intercept1) < TAU:\n",
    "            inliers.append(index)\n",
    "            inlier_distances.append(np.abs(a1*points_matrix[index][0] + b1*points_matrix[index][1] + intercept1))\n",
    "        else:\n",
    "            outlier_distances.append(np.abs(a1*points_matrix[index][0] + b1*points_matrix[index][1] + intercept1))\n",
    "    if len(inliers) > kmax:\n",
    "        print(\"Sample {}:\".format(i))\n",
    "        print(\"indices ({},{})\".format(index1, index2))\n",
    "        print(\"line ({:.3f},{:.3f},{:.3f})\".format(a1, b1, intercept1))\n",
    "        print(\"inliers {}\\n\".format(len(inliers)))\n",
    "        kmax = len(inliers)\n",
    "        best_inlier_distances = inlier_distances\n",
    "        best_outlier_distances = outlier_distances\n",
    "print(\"avg inlier dist {:.3f}\".format(np.mean(np.array(best_inlier_distances))))\n",
    "print(\"avg outlier dist {:.3f}\".format(np.mean(np.array(best_outlier_distances))))\n",
    "        "
   ]
  },
  {
   "cell_type": "code",
   "execution_count": null,
   "id": "01c17158",
   "metadata": {},
   "outputs": [],
   "source": []
  },
  {
   "cell_type": "code",
   "execution_count": null,
   "id": "655aa215",
   "metadata": {},
   "outputs": [],
   "source": []
  }
 ],
 "metadata": {
  "kernelspec": {
   "display_name": "Python 3 (ipykernel)",
   "language": "python",
   "name": "python3"
  },
  "language_info": {
   "codemirror_mode": {
    "name": "ipython",
    "version": 3
   },
   "file_extension": ".py",
   "mimetype": "text/x-python",
   "name": "python",
   "nbconvert_exporter": "python",
   "pygments_lexer": "ipython3",
   "version": "3.8.12"
  }
 },
 "nbformat": 4,
 "nbformat_minor": 5
}
